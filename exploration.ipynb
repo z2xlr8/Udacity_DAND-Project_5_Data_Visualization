{
 "cells": [
  {
   "cell_type": "markdown",
   "metadata": {},
   "source": [
    "# Exploring and Visualizing FordGoBike Data\n",
    "## by (Brent Murphy)\n",
    "\n",
    "## Preliminary Wrangling\n",
    "\n",
    "> This data set includes information about individual rides made\n",
    "in a bike-sharing system covering the greater San Francisco\n",
    "Bay area."
   ]
  },
  {
   "cell_type": "code",
   "execution_count": 1,
   "metadata": {},
   "outputs": [],
   "source": [
    "# import all packages and set plots to be embedded inline\n",
    "import numpy as np\n",
    "import pandas as pd\n",
    "import matplotlib.pyplot as plt\n",
    "import seaborn as sb\n",
    "import os\n",
    "\n",
    "import requests\n",
    "import re\n",
    "\n",
    "from timeit import default_timer as timer\n",
    "\n",
    "from zipfile import ZipFile\n",
    "from urllib.request import urlopen   \n",
    "\n",
    "import glob\n",
    "\n",
    "\n",
    "%matplotlib inline"
   ]
  },
  {
   "cell_type": "markdown",
   "metadata": {},
   "source": [
    "> Load in your dataset and describe its properties through the questions below.\n",
    "Try and motivate your exploration goals through this section."
   ]
  },
  {
   "cell_type": "markdown",
   "metadata": {},
   "source": [
    "## Gather Data"
   ]
  },
  {
   "cell_type": "markdown",
   "metadata": {},
   "source": [
    "## The process below is how I gathered by data from Amazon AWS"
   ]
  },
  {
   "cell_type": "markdown",
   "metadata": {},
   "source": [
    "### created a list of files that had the data that I wanted to download\n",
    "URLS = [\"https://s3.amazonaws.com/fordgobike-data/2017-fordgobike-tripdata.csv\", \n",
    "        \"https://s3.amazonaws.com/fordgobike-data/201801-fordgobike-tripdata.csv.zip\", \n",
    "        \"https://s3.amazonaws.com/fordgobike-data/201802-fordgobike-tripdata.csv.zip\", \n",
    "        \"https://s3.amazonaws.com/fordgobike-data/201803-fordgobike-tripdata.csv.zip\", \n",
    "        \"https://s3.amazonaws.com/fordgobike-data/201804-fordgobike-tripdata.csv.zip\", \n",
    "        \"https://s3.amazonaws.com/fordgobike-data/201805-fordgobike-tripdata.csv.zip\", \n",
    "        \"https://s3.amazonaws.com/fordgobike-data/201806-fordgobike-tripdata.csv.zip\", \n",
    "        \"https://s3.amazonaws.com/fordgobike-data/201807-fordgobike-tripdata.csv.zip\", \n",
    "        \"https://s3.amazonaws.com/fordgobike-data/201808-fordgobike-tripdata.csv.zip\", \n",
    "        \"https://s3.amazonaws.com/fordgobike-data/201809-fordgobike-tripdata.csv.zip\", \n",
    "        \"https://s3.amazonaws.com/fordgobike-data/201810-fordgobike-tripdata.csv.zip\", \n",
    "        \"https://s3.amazonaws.com/fordgobike-data/201811-fordgobike-tripdata.csv.zip\", \n",
    "        \"https://s3.amazonaws.com/fordgobike-data/201812-fordgobike-tripdata.csv.zip\", \n",
    "        \"https://s3.amazonaws.com/fordgobike-data/201901-fordgobike-tripdata.csv.zip\", \n",
    "        \"https://s3.amazonaws.com/fordgobike-data/201902-fordgobike-tripdata.csv.zip\", \n",
    "        \"https://s3.amazonaws.com/fordgobike-data/201903-fordgobike-tripdata.csv.zip\", \n",
    "        \"https://s3.amazonaws.com/fordgobike-data/201904-fordgobike-tripdata.csv.zip\"\n",
    "]\n",
    "\n",
    "start = timer()\n",
    "\n",
    "for u in URLS:\n",
    "    print('Copying data from... ' + u)\n",
    "    \n",
    "    download_start = timer()\n",
    "    \n",
    "    URL = u\n",
    "    zipName = u.replace('https://s3.amazonaws.com/fordgobike-data/', '')\n",
    "    save_file = u.replace('https://s3.amazonaws.com/fordgobike-data/', '').replace('.zip', '')\n",
    "\n",
    "    # open and save the zip file onto computer\n",
    "    url = urlopen(URL)\n",
    "    output = open(zipName, 'wb')    # note the flag:  \"wb\"        \n",
    "    output.write(url.read())\n",
    "    output.close()\n",
    "\n",
    "    # read the zip file as a pandas dataframe\n",
    "    df = pd.read_csv(zipName)    #zip files       \n",
    "    \n",
    "    # save the dataframe as a new .csv file\n",
    "    print('Saving data to... ' + './fordgobike-data/' + save_file)\n",
    "    df.to_csv('./fordgobike-data/' + save_file, encoding='utf-8', index=False)\n",
    "\n",
    "    # if keeping on disk the zip file is not wanted, then:\n",
    "    print('Removing... ' + zipName)\n",
    "    os.remove(zipName)   # remove the copy of the zipfile on disk\n",
    "    \n",
    "    end = timer()\n",
    "\n",
    "    print('Elapsed time to copy ' + zipName + ': ' + str(end - download_start)  + ' seconds')\n",
    "    \n",
    "end = timer()\n",
    "print('Operation complete! Elapsed time: ' + str(end - start) + ' seconds')"
   ]
  },
  {
   "cell_type": "markdown",
   "metadata": {},
   "source": [
    "path = './fordgobike-data/'\n",
    "all_files = glob.glob(path + \"/*.csv\")\n",
    "\n",
    "li = []\n",
    "\n",
    "for filename in all_files:\n",
    "    df = pd.read_csv(filename, index_col=None, header=0)\n",
    "    li.append(df)\n",
    "\n",
    "merged_csv_df = pd.concat(li, axis=0, ignore_index=True)"
   ]
  },
  {
   "cell_type": "markdown",
   "metadata": {},
   "source": [
    "Created 1 dataframe, merged_csv_df, containing all data"
   ]
  },
  {
   "cell_type": "markdown",
   "metadata": {},
   "source": [
    "merged_csv_df.shape"
   ]
  },
  {
   "cell_type": "markdown",
   "metadata": {},
   "source": [
    "merged_csv_df.to_csv('./fordgobike-data/fordgobike-data-2017-thru-201904.csv', encoding='utf-8', index=False)"
   ]
  },
  {
   "cell_type": "markdown",
   "metadata": {},
   "source": [
    "Saved merged_csv_df to 'fordgobike-data-2017-thru-201904.csv'"
   ]
  },
  {
   "cell_type": "markdown",
   "metadata": {},
   "source": [
    "## Asses"
   ]
  },
  {
   "cell_type": "code",
   "execution_count": 2,
   "metadata": {},
   "outputs": [
    {
     "name": "stderr",
     "output_type": "stream",
     "text": [
      "C:\\Users\\bm9874\\Anaconda3\\lib\\site-packages\\IPython\\core\\interactiveshell.py:3063: DtypeWarning: Columns (15) have mixed types.Specify dtype option on import or set low_memory=False.\n",
      "  interactivity=interactivity, compiler=compiler, result=result)\n"
     ]
    }
   ],
   "source": [
    "# load the dataset\n",
    "fordgobike_df = pd.read_csv('./fordgobike-data/fordgobike-data-2017-thru-201904.csv')"
   ]
  },
  {
   "cell_type": "code",
   "execution_count": 3,
   "metadata": {},
   "outputs": [
    {
     "data": {
      "text/plain": [
       "(3254325, 16)"
      ]
     },
     "execution_count": 3,
     "metadata": {},
     "output_type": "execute_result"
    }
   ],
   "source": [
    "fordgobike_df.shape"
   ]
  },
  {
   "cell_type": "code",
   "execution_count": 85,
   "metadata": {},
   "outputs": [
    {
     "data": {
      "text/html": [
       "<div>\n",
       "<style scoped>\n",
       "    .dataframe tbody tr th:only-of-type {\n",
       "        vertical-align: middle;\n",
       "    }\n",
       "\n",
       "    .dataframe tbody tr th {\n",
       "        vertical-align: top;\n",
       "    }\n",
       "\n",
       "    .dataframe thead th {\n",
       "        text-align: right;\n",
       "    }\n",
       "</style>\n",
       "<table border=\"1\" class=\"dataframe\">\n",
       "  <thead>\n",
       "    <tr style=\"text-align: right;\">\n",
       "      <th></th>\n",
       "      <th>duration_sec</th>\n",
       "      <th>start_time</th>\n",
       "      <th>end_time</th>\n",
       "      <th>start_station_id</th>\n",
       "      <th>start_station_name</th>\n",
       "      <th>start_station_latitude</th>\n",
       "      <th>start_station_longitude</th>\n",
       "      <th>end_station_id</th>\n",
       "      <th>end_station_name</th>\n",
       "      <th>end_station_latitude</th>\n",
       "      <th>end_station_longitude</th>\n",
       "      <th>bike_id</th>\n",
       "      <th>user_type</th>\n",
       "      <th>member_birth_year</th>\n",
       "      <th>member_gender</th>\n",
       "      <th>bike_share_for_all_trip</th>\n",
       "    </tr>\n",
       "  </thead>\n",
       "  <tbody>\n",
       "    <tr>\n",
       "      <th>0</th>\n",
       "      <td>80110</td>\n",
       "      <td>2017-12-31 16:57:39.6540</td>\n",
       "      <td>2018-01-01 15:12:50.2450</td>\n",
       "      <td>74.0</td>\n",
       "      <td>Laguna St at Hayes St</td>\n",
       "      <td>37.776435</td>\n",
       "      <td>-122.426244</td>\n",
       "      <td>43.0</td>\n",
       "      <td>San Francisco Public Library (Grove St at Hyde...</td>\n",
       "      <td>37.778768</td>\n",
       "      <td>-122.415929</td>\n",
       "      <td>96</td>\n",
       "      <td>Customer</td>\n",
       "      <td>1987.0</td>\n",
       "      <td>Male</td>\n",
       "      <td>NaN</td>\n",
       "    </tr>\n",
       "    <tr>\n",
       "      <th>1</th>\n",
       "      <td>78800</td>\n",
       "      <td>2017-12-31 15:56:34.8420</td>\n",
       "      <td>2018-01-01 13:49:55.6170</td>\n",
       "      <td>284.0</td>\n",
       "      <td>Yerba Buena Center for the Arts (Howard St at ...</td>\n",
       "      <td>37.784872</td>\n",
       "      <td>-122.400876</td>\n",
       "      <td>96.0</td>\n",
       "      <td>Dolores St at 15th St</td>\n",
       "      <td>37.766210</td>\n",
       "      <td>-122.426614</td>\n",
       "      <td>88</td>\n",
       "      <td>Customer</td>\n",
       "      <td>1965.0</td>\n",
       "      <td>Female</td>\n",
       "      <td>NaN</td>\n",
       "    </tr>\n",
       "  </tbody>\n",
       "</table>\n",
       "</div>"
      ],
      "text/plain": [
       "   duration_sec                start_time                  end_time  \\\n",
       "0         80110  2017-12-31 16:57:39.6540  2018-01-01 15:12:50.2450   \n",
       "1         78800  2017-12-31 15:56:34.8420  2018-01-01 13:49:55.6170   \n",
       "\n",
       "   start_station_id                                 start_station_name  \\\n",
       "0              74.0                              Laguna St at Hayes St   \n",
       "1             284.0  Yerba Buena Center for the Arts (Howard St at ...   \n",
       "\n",
       "   start_station_latitude  start_station_longitude  end_station_id  \\\n",
       "0               37.776435              -122.426244            43.0   \n",
       "1               37.784872              -122.400876            96.0   \n",
       "\n",
       "                                    end_station_name  end_station_latitude  \\\n",
       "0  San Francisco Public Library (Grove St at Hyde...             37.778768   \n",
       "1                              Dolores St at 15th St             37.766210   \n",
       "\n",
       "   end_station_longitude  bike_id user_type  member_birth_year member_gender  \\\n",
       "0            -122.415929       96  Customer             1987.0          Male   \n",
       "1            -122.426614       88  Customer             1965.0        Female   \n",
       "\n",
       "  bike_share_for_all_trip  \n",
       "0                     NaN  \n",
       "1                     NaN  "
      ]
     },
     "execution_count": 85,
     "metadata": {},
     "output_type": "execute_result"
    }
   ],
   "source": [
    "fordgobike_df.head(2)"
   ]
  },
  {
   "cell_type": "code",
   "execution_count": 86,
   "metadata": {},
   "outputs": [
    {
     "name": "stdout",
     "output_type": "stream",
     "text": [
      "<class 'pandas.core.frame.DataFrame'>\n",
      "RangeIndex: 3254325 entries, 0 to 3254324\n",
      "Data columns (total 16 columns):\n",
      " #   Column                   Dtype  \n",
      "---  ------                   -----  \n",
      " 0   duration_sec             int64  \n",
      " 1   start_time               object \n",
      " 2   end_time                 object \n",
      " 3   start_station_id         float64\n",
      " 4   start_station_name       object \n",
      " 5   start_station_latitude   float64\n",
      " 6   start_station_longitude  float64\n",
      " 7   end_station_id           float64\n",
      " 8   end_station_name         object \n",
      " 9   end_station_latitude     float64\n",
      " 10  end_station_longitude    float64\n",
      " 11  bike_id                  int64  \n",
      " 12  user_type                object \n",
      " 13  member_birth_year        float64\n",
      " 14  member_gender            object \n",
      " 15  bike_share_for_all_trip  object \n",
      "dtypes: float64(7), int64(2), object(7)\n",
      "memory usage: 397.3+ MB\n"
     ]
    }
   ],
   "source": [
    "fordgobike_df.info()"
   ]
  },
  {
   "cell_type": "code",
   "execution_count": 88,
   "metadata": {},
   "outputs": [
    {
     "data": {
      "text/plain": [
       "0"
      ]
     },
     "execution_count": 88,
     "metadata": {},
     "output_type": "execute_result"
    }
   ],
   "source": [
    "# check for duplicates\n",
    "fordgobike_df.duplicated().sum()"
   ]
  },
  {
   "cell_type": "code",
   "execution_count": 89,
   "metadata": {},
   "outputs": [
    {
     "data": {
      "text/plain": [
       "duration_sec                    0\n",
       "start_time                      0\n",
       "end_time                        0\n",
       "start_station_id            12501\n",
       "start_station_name          12501\n",
       "start_station_latitude          0\n",
       "start_station_longitude         0\n",
       "end_station_id              12501\n",
       "end_station_name            12501\n",
       "end_station_latitude            0\n",
       "end_station_longitude           0\n",
       "bike_id                         0\n",
       "user_type                       0\n",
       "member_birth_year          218166\n",
       "member_gender              217733\n",
       "bike_share_for_all_trip    519700\n",
       "dtype: int64"
      ]
     },
     "execution_count": 89,
     "metadata": {},
     "output_type": "execute_result"
    }
   ],
   "source": [
    "# search for NaN values\n",
    "fordgobike_df.isna().sum()"
   ]
  },
  {
   "cell_type": "code",
   "execution_count": 90,
   "metadata": {},
   "outputs": [
    {
     "data": {
      "text/html": [
       "<div>\n",
       "<style scoped>\n",
       "    .dataframe tbody tr th:only-of-type {\n",
       "        vertical-align: middle;\n",
       "    }\n",
       "\n",
       "    .dataframe tbody tr th {\n",
       "        vertical-align: top;\n",
       "    }\n",
       "\n",
       "    .dataframe thead th {\n",
       "        text-align: right;\n",
       "    }\n",
       "</style>\n",
       "<table border=\"1\" class=\"dataframe\">\n",
       "  <thead>\n",
       "    <tr style=\"text-align: right;\">\n",
       "      <th></th>\n",
       "      <th>duration_sec</th>\n",
       "      <th>start_time</th>\n",
       "      <th>end_time</th>\n",
       "      <th>start_station_id</th>\n",
       "      <th>start_station_name</th>\n",
       "      <th>start_station_latitude</th>\n",
       "      <th>start_station_longitude</th>\n",
       "      <th>end_station_id</th>\n",
       "      <th>end_station_name</th>\n",
       "      <th>end_station_latitude</th>\n",
       "      <th>end_station_longitude</th>\n",
       "      <th>bike_id</th>\n",
       "      <th>user_type</th>\n",
       "      <th>member_birth_year</th>\n",
       "      <th>member_gender</th>\n",
       "      <th>bike_share_for_all_trip</th>\n",
       "    </tr>\n",
       "  </thead>\n",
       "  <tbody>\n",
       "    <tr>\n",
       "      <th>1256729</th>\n",
       "      <td>550</td>\n",
       "      <td>2018-06-13 19:19:34.6610</td>\n",
       "      <td>2018-06-13 19:28:45.3950</td>\n",
       "      <td>338.0</td>\n",
       "      <td>13th St at Franklin St</td>\n",
       "      <td>37.803189</td>\n",
       "      <td>-122.270579</td>\n",
       "      <td>196.0</td>\n",
       "      <td>Grand Ave at Perkins St</td>\n",
       "      <td>37.808894</td>\n",
       "      <td>-122.256460</td>\n",
       "      <td>3426</td>\n",
       "      <td>Subscriber</td>\n",
       "      <td>1981.0</td>\n",
       "      <td>Female</td>\n",
       "      <td>No</td>\n",
       "    </tr>\n",
       "    <tr>\n",
       "      <th>2531139</th>\n",
       "      <td>447</td>\n",
       "      <td>2019-01-09 20:00:06.2640</td>\n",
       "      <td>2019-01-09 20:07:33.5820</td>\n",
       "      <td>138.0</td>\n",
       "      <td>Jersey St at Church St</td>\n",
       "      <td>37.750900</td>\n",
       "      <td>-122.427411</td>\n",
       "      <td>121.0</td>\n",
       "      <td>Mission Playground</td>\n",
       "      <td>37.759210</td>\n",
       "      <td>-122.421339</td>\n",
       "      <td>4797</td>\n",
       "      <td>Subscriber</td>\n",
       "      <td>1971.0</td>\n",
       "      <td>Male</td>\n",
       "      <td>No</td>\n",
       "    </tr>\n",
       "    <tr>\n",
       "      <th>1689135</th>\n",
       "      <td>1253</td>\n",
       "      <td>2018-08-07 17:38:22.1870</td>\n",
       "      <td>2018-08-07 17:59:15.6600</td>\n",
       "      <td>21.0</td>\n",
       "      <td>Montgomery St BART Station (Market St at 2nd St)</td>\n",
       "      <td>37.789625</td>\n",
       "      <td>-122.400811</td>\n",
       "      <td>106.0</td>\n",
       "      <td>Sanchez St at 17th St</td>\n",
       "      <td>37.763242</td>\n",
       "      <td>-122.430675</td>\n",
       "      <td>2202</td>\n",
       "      <td>Subscriber</td>\n",
       "      <td>1982.0</td>\n",
       "      <td>Male</td>\n",
       "      <td>No</td>\n",
       "    </tr>\n",
       "    <tr>\n",
       "      <th>2024456</th>\n",
       "      <td>578</td>\n",
       "      <td>2018-10-15 11:57:09.3110</td>\n",
       "      <td>2018-10-15 12:06:47.5940</td>\n",
       "      <td>104.0</td>\n",
       "      <td>4th St at 16th St</td>\n",
       "      <td>37.767045</td>\n",
       "      <td>-122.390833</td>\n",
       "      <td>80.0</td>\n",
       "      <td>Townsend St at 5th St</td>\n",
       "      <td>37.775306</td>\n",
       "      <td>-122.397380</td>\n",
       "      <td>3368</td>\n",
       "      <td>Subscriber</td>\n",
       "      <td>1981.0</td>\n",
       "      <td>Male</td>\n",
       "      <td>No</td>\n",
       "    </tr>\n",
       "    <tr>\n",
       "      <th>3030279</th>\n",
       "      <td>405</td>\n",
       "      <td>2019-04-28 20:08:40.9050</td>\n",
       "      <td>2019-04-28 20:15:26.8180</td>\n",
       "      <td>269.0</td>\n",
       "      <td>Telegraph Ave at Carleton St</td>\n",
       "      <td>37.862320</td>\n",
       "      <td>-122.258801</td>\n",
       "      <td>246.0</td>\n",
       "      <td>Berkeley Civic Center</td>\n",
       "      <td>37.869060</td>\n",
       "      <td>-122.270556</td>\n",
       "      <td>2182</td>\n",
       "      <td>Subscriber</td>\n",
       "      <td>1997.0</td>\n",
       "      <td>Male</td>\n",
       "      <td>No</td>\n",
       "    </tr>\n",
       "    <tr>\n",
       "      <th>30883</th>\n",
       "      <td>275</td>\n",
       "      <td>2017-12-16 17:15:46.3770</td>\n",
       "      <td>2017-12-16 17:20:22.3080</td>\n",
       "      <td>61.0</td>\n",
       "      <td>Howard St at 8th St</td>\n",
       "      <td>37.776513</td>\n",
       "      <td>-122.411306</td>\n",
       "      <td>88.0</td>\n",
       "      <td>11th St at Bryant St</td>\n",
       "      <td>37.770030</td>\n",
       "      <td>-122.411726</td>\n",
       "      <td>726</td>\n",
       "      <td>Subscriber</td>\n",
       "      <td>1989.0</td>\n",
       "      <td>Male</td>\n",
       "      <td>NaN</td>\n",
       "    </tr>\n",
       "    <tr>\n",
       "      <th>1350708</th>\n",
       "      <td>573</td>\n",
       "      <td>2018-07-30 10:59:16.0630</td>\n",
       "      <td>2018-07-30 11:08:49.1660</td>\n",
       "      <td>294.0</td>\n",
       "      <td>Pierce Ave at Market St</td>\n",
       "      <td>37.327581</td>\n",
       "      <td>-121.884559</td>\n",
       "      <td>312.0</td>\n",
       "      <td>San Jose Diridon Station</td>\n",
       "      <td>37.329732</td>\n",
       "      <td>-121.901782</td>\n",
       "      <td>2650</td>\n",
       "      <td>Subscriber</td>\n",
       "      <td>1993.0</td>\n",
       "      <td>Male</td>\n",
       "      <td>No</td>\n",
       "    </tr>\n",
       "    <tr>\n",
       "      <th>1117384</th>\n",
       "      <td>93</td>\n",
       "      <td>2018-05-04 19:36:45.9680</td>\n",
       "      <td>2018-05-04 19:38:19.7340</td>\n",
       "      <td>20.0</td>\n",
       "      <td>Mechanics Monument Plaza (Market St at Bush St)</td>\n",
       "      <td>37.791300</td>\n",
       "      <td>-122.399051</td>\n",
       "      <td>21.0</td>\n",
       "      <td>Montgomery St BART Station (Market St at 2nd St)</td>\n",
       "      <td>37.789625</td>\n",
       "      <td>-122.400811</td>\n",
       "      <td>1397</td>\n",
       "      <td>Subscriber</td>\n",
       "      <td>1993.0</td>\n",
       "      <td>Male</td>\n",
       "      <td>No</td>\n",
       "    </tr>\n",
       "    <tr>\n",
       "      <th>1045020</th>\n",
       "      <td>186</td>\n",
       "      <td>2018-05-17 14:30:28.2320</td>\n",
       "      <td>2018-05-17 14:33:34.6570</td>\n",
       "      <td>37.0</td>\n",
       "      <td>2nd St at Folsom St</td>\n",
       "      <td>37.785000</td>\n",
       "      <td>-122.395936</td>\n",
       "      <td>21.0</td>\n",
       "      <td>Montgomery St BART Station (Market St at 2nd St)</td>\n",
       "      <td>37.789625</td>\n",
       "      <td>-122.400811</td>\n",
       "      <td>3838</td>\n",
       "      <td>Subscriber</td>\n",
       "      <td>1971.0</td>\n",
       "      <td>Male</td>\n",
       "      <td>No</td>\n",
       "    </tr>\n",
       "    <tr>\n",
       "      <th>2143061</th>\n",
       "      <td>872</td>\n",
       "      <td>2018-11-26 07:09:36.7510</td>\n",
       "      <td>2018-11-26 07:24:09.7130</td>\n",
       "      <td>116.0</td>\n",
       "      <td>Mississippi St at 17th St</td>\n",
       "      <td>37.764802</td>\n",
       "      <td>-122.394771</td>\n",
       "      <td>23.0</td>\n",
       "      <td>The Embarcadero at Steuart St</td>\n",
       "      <td>37.791464</td>\n",
       "      <td>-122.391034</td>\n",
       "      <td>1808</td>\n",
       "      <td>Subscriber</td>\n",
       "      <td>1990.0</td>\n",
       "      <td>Male</td>\n",
       "      <td>No</td>\n",
       "    </tr>\n",
       "  </tbody>\n",
       "</table>\n",
       "</div>"
      ],
      "text/plain": [
       "         duration_sec                start_time                  end_time  \\\n",
       "1256729           550  2018-06-13 19:19:34.6610  2018-06-13 19:28:45.3950   \n",
       "2531139           447  2019-01-09 20:00:06.2640  2019-01-09 20:07:33.5820   \n",
       "1689135          1253  2018-08-07 17:38:22.1870  2018-08-07 17:59:15.6600   \n",
       "2024456           578  2018-10-15 11:57:09.3110  2018-10-15 12:06:47.5940   \n",
       "3030279           405  2019-04-28 20:08:40.9050  2019-04-28 20:15:26.8180   \n",
       "30883             275  2017-12-16 17:15:46.3770  2017-12-16 17:20:22.3080   \n",
       "1350708           573  2018-07-30 10:59:16.0630  2018-07-30 11:08:49.1660   \n",
       "1117384            93  2018-05-04 19:36:45.9680  2018-05-04 19:38:19.7340   \n",
       "1045020           186  2018-05-17 14:30:28.2320  2018-05-17 14:33:34.6570   \n",
       "2143061           872  2018-11-26 07:09:36.7510  2018-11-26 07:24:09.7130   \n",
       "\n",
       "         start_station_id                                start_station_name  \\\n",
       "1256729             338.0                            13th St at Franklin St   \n",
       "2531139             138.0                            Jersey St at Church St   \n",
       "1689135              21.0  Montgomery St BART Station (Market St at 2nd St)   \n",
       "2024456             104.0                                 4th St at 16th St   \n",
       "3030279             269.0                      Telegraph Ave at Carleton St   \n",
       "30883                61.0                               Howard St at 8th St   \n",
       "1350708             294.0                           Pierce Ave at Market St   \n",
       "1117384              20.0   Mechanics Monument Plaza (Market St at Bush St)   \n",
       "1045020              37.0                               2nd St at Folsom St   \n",
       "2143061             116.0                         Mississippi St at 17th St   \n",
       "\n",
       "         start_station_latitude  start_station_longitude  end_station_id  \\\n",
       "1256729               37.803189              -122.270579           196.0   \n",
       "2531139               37.750900              -122.427411           121.0   \n",
       "1689135               37.789625              -122.400811           106.0   \n",
       "2024456               37.767045              -122.390833            80.0   \n",
       "3030279               37.862320              -122.258801           246.0   \n",
       "30883                 37.776513              -122.411306            88.0   \n",
       "1350708               37.327581              -121.884559           312.0   \n",
       "1117384               37.791300              -122.399051            21.0   \n",
       "1045020               37.785000              -122.395936            21.0   \n",
       "2143061               37.764802              -122.394771            23.0   \n",
       "\n",
       "                                         end_station_name  \\\n",
       "1256729                           Grand Ave at Perkins St   \n",
       "2531139                                Mission Playground   \n",
       "1689135                             Sanchez St at 17th St   \n",
       "2024456                             Townsend St at 5th St   \n",
       "3030279                             Berkeley Civic Center   \n",
       "30883                                11th St at Bryant St   \n",
       "1350708                          San Jose Diridon Station   \n",
       "1117384  Montgomery St BART Station (Market St at 2nd St)   \n",
       "1045020  Montgomery St BART Station (Market St at 2nd St)   \n",
       "2143061                     The Embarcadero at Steuart St   \n",
       "\n",
       "         end_station_latitude  end_station_longitude  bike_id   user_type  \\\n",
       "1256729             37.808894            -122.256460     3426  Subscriber   \n",
       "2531139             37.759210            -122.421339     4797  Subscriber   \n",
       "1689135             37.763242            -122.430675     2202  Subscriber   \n",
       "2024456             37.775306            -122.397380     3368  Subscriber   \n",
       "3030279             37.869060            -122.270556     2182  Subscriber   \n",
       "30883               37.770030            -122.411726      726  Subscriber   \n",
       "1350708             37.329732            -121.901782     2650  Subscriber   \n",
       "1117384             37.789625            -122.400811     1397  Subscriber   \n",
       "1045020             37.789625            -122.400811     3838  Subscriber   \n",
       "2143061             37.791464            -122.391034     1808  Subscriber   \n",
       "\n",
       "         member_birth_year member_gender bike_share_for_all_trip  \n",
       "1256729             1981.0        Female                      No  \n",
       "2531139             1971.0          Male                      No  \n",
       "1689135             1982.0          Male                      No  \n",
       "2024456             1981.0          Male                      No  \n",
       "3030279             1997.0          Male                      No  \n",
       "30883               1989.0          Male                     NaN  \n",
       "1350708             1993.0          Male                      No  \n",
       "1117384             1993.0          Male                      No  \n",
       "1045020             1971.0          Male                      No  \n",
       "2143061             1990.0          Male                      No  "
      ]
     },
     "execution_count": 90,
     "metadata": {},
     "output_type": "execute_result"
    }
   ],
   "source": [
    "fordgobike_df.sample(10)"
   ]
  },
  {
   "cell_type": "code",
   "execution_count": 91,
   "metadata": {},
   "outputs": [
    {
     "name": "stdout",
     "output_type": "stream",
     "text": [
      "<class 'pandas.core.frame.DataFrame'>\n",
      "RangeIndex: 3254325 entries, 0 to 3254324\n",
      "Data columns (total 16 columns):\n",
      " #   Column                   Non-Null Count    Dtype  \n",
      "---  ------                   --------------    -----  \n",
      " 0   duration_sec             3254325 non-null  int64  \n",
      " 1   start_time               3254325 non-null  object \n",
      " 2   end_time                 3254325 non-null  object \n",
      " 3   start_station_id         3241824 non-null  float64\n",
      " 4   start_station_name       3241824 non-null  object \n",
      " 5   start_station_latitude   3254325 non-null  float64\n",
      " 6   start_station_longitude  3254325 non-null  float64\n",
      " 7   end_station_id           3241824 non-null  float64\n",
      " 8   end_station_name         3241824 non-null  object \n",
      " 9   end_station_latitude     3254325 non-null  float64\n",
      " 10  end_station_longitude    3254325 non-null  float64\n",
      " 11  bike_id                  3254325 non-null  int64  \n",
      " 12  user_type                3254325 non-null  object \n",
      " 13  member_birth_year        3036159 non-null  float64\n",
      " 14  member_gender            3036592 non-null  object \n",
      " 15  bike_share_for_all_trip  2734625 non-null  object \n",
      "dtypes: float64(7), int64(2), object(7)\n",
      "memory usage: 397.3+ MB\n"
     ]
    }
   ],
   "source": [
    "fordgobike_df.info(null_counts = True)"
   ]
  },
  {
   "cell_type": "code",
   "execution_count": 93,
   "metadata": {},
   "outputs": [
    {
     "data": {
      "text/plain": [
       "Subscriber    2747580\n",
       "Customer       506745\n",
       "Name: user_type, dtype: int64"
      ]
     },
     "execution_count": 93,
     "metadata": {},
     "output_type": "execute_result"
    }
   ],
   "source": [
    "fordgobike_df.user_type.value_counts()"
   ]
  },
  {
   "cell_type": "code",
   "execution_count": 94,
   "metadata": {},
   "outputs": [
    {
     "data": {
      "text/plain": [
       "Male      2251128\n",
       "Female     735690\n",
       "Other       49774\n",
       "Name: member_gender, dtype: int64"
      ]
     },
     "execution_count": 94,
     "metadata": {},
     "output_type": "execute_result"
    }
   ],
   "source": [
    "fordgobike_df.member_gender.value_counts()"
   ]
  },
  {
   "cell_type": "code",
   "execution_count": 95,
   "metadata": {},
   "outputs": [
    {
     "data": {
      "text/plain": [
       "No     2495879\n",
       "Yes     238746\n",
       "Name: bike_share_for_all_trip, dtype: int64"
      ]
     },
     "execution_count": 95,
     "metadata": {},
     "output_type": "execute_result"
    }
   ],
   "source": [
    "fordgobike_df.bike_share_for_all_trip.value_counts()"
   ]
  },
  {
   "cell_type": "code",
   "execution_count": 96,
   "metadata": {},
   "outputs": [
    {
     "data": {
      "text/plain": [
       "1988.0    174820\n",
       "1987.0    148691\n",
       "1989.0    148213\n",
       "1990.0    141104\n",
       "1985.0    136066\n",
       "           ...  \n",
       "1886.0         3\n",
       "1906.0         2\n",
       "1930.0         2\n",
       "1903.0         1\n",
       "1910.0         1\n",
       "Name: member_birth_year, Length: 93, dtype: int64"
      ]
     },
     "execution_count": 96,
     "metadata": {},
     "output_type": "execute_result"
    }
   ],
   "source": [
    "fordgobike_df.member_birth_year.value_counts()"
   ]
  },
  {
   "cell_type": "markdown",
   "metadata": {},
   "source": [
    "### Quality issues\n",
    "\n",
    "- 'start_time' and 'end_time' are not dateTime\n",
    "- 'bike_id', 'start_station_id', 'end_station_id' set to object\n",
    "\n",
    "- missing values in columns...\n",
    "    - 'start_station_id', 'start_station_name', 'end_station_id', 'end_station_name', 'member_birth_year', 'member_gender', 'bike_share_for_all_trip'\n",
    "- 'member_birth_year' should be int not float\n",
    "- calculate the age of the user using 'member_birth_year'\n",
    "- calculate 'start_time_month', 'start_time_day', 'start_time_weekday', 'start_time_hour'\n",
    "- calculate 'end_time_month', 'end_time_day', 'end_time_weekday', 'end_time_hour'\n",
    "\n",
    "\n",
    "\n",
    "- calculate total distance for rides between stations\n",
    "\n",
    "\n",
    "- we can further enhance the dataset with more details about the time like month, day, hour, weekday\n",
    "\n",
    "\n",
    "\n",
    "- 'member_birth_year' has dates prior to 1900\n",
    "\n",
    "\n",
    "\n",
    "\n"
   ]
  },
  {
   "cell_type": "markdown",
   "metadata": {},
   "source": [
    "## Cleaning"
   ]
  },
  {
   "cell_type": "code",
   "execution_count": 464,
   "metadata": {},
   "outputs": [],
   "source": [
    "df_cleaned = fordgobike_df.copy()"
   ]
  },
  {
   "cell_type": "markdown",
   "metadata": {},
   "source": [
    "Make copy of original to clean"
   ]
  },
  {
   "cell_type": "code",
   "execution_count": 465,
   "metadata": {},
   "outputs": [
    {
     "name": "stdout",
     "output_type": "stream",
     "text": [
      "<class 'pandas.core.frame.DataFrame'>\n",
      "RangeIndex: 3254325 entries, 0 to 3254324\n",
      "Data columns (total 16 columns):\n",
      " #   Column                   Dtype  \n",
      "---  ------                   -----  \n",
      " 0   duration_sec             int64  \n",
      " 1   start_time               object \n",
      " 2   end_time                 object \n",
      " 3   start_station_id         float64\n",
      " 4   start_station_name       object \n",
      " 5   start_station_latitude   float64\n",
      " 6   start_station_longitude  float64\n",
      " 7   end_station_id           float64\n",
      " 8   end_station_name         object \n",
      " 9   end_station_latitude     float64\n",
      " 10  end_station_longitude    float64\n",
      " 11  bike_id                  int64  \n",
      " 12  user_type                object \n",
      " 13  member_birth_year        float64\n",
      " 14  member_gender            object \n",
      " 15  bike_share_for_all_trip  object \n",
      "dtypes: float64(7), int64(2), object(7)\n",
      "memory usage: 397.3+ MB\n"
     ]
    }
   ],
   "source": [
    "df_cleaned.info()"
   ]
  },
  {
   "cell_type": "markdown",
   "metadata": {},
   "source": [
    "### Define\n",
    "- Remove empty 'member_gender' data"
   ]
  },
  {
   "cell_type": "markdown",
   "metadata": {},
   "source": [
    "### Code"
   ]
  },
  {
   "cell_type": "code",
   "execution_count": 466,
   "metadata": {},
   "outputs": [
    {
     "data": {
      "text/plain": [
       "duration_sec                    0\n",
       "start_time                      0\n",
       "end_time                        0\n",
       "start_station_id            12501\n",
       "start_station_name          12501\n",
       "start_station_latitude          0\n",
       "start_station_longitude         0\n",
       "end_station_id              12501\n",
       "end_station_name            12501\n",
       "end_station_latitude            0\n",
       "end_station_longitude           0\n",
       "bike_id                         0\n",
       "user_type                       0\n",
       "member_birth_year          218166\n",
       "member_gender              217733\n",
       "bike_share_for_all_trip    519700\n",
       "dtype: int64"
      ]
     },
     "execution_count": 466,
     "metadata": {},
     "output_type": "execute_result"
    }
   ],
   "source": [
    "# search for NaN values\n",
    "df_cleaned.isna().sum()"
   ]
  },
  {
   "cell_type": "code",
   "execution_count": 467,
   "metadata": {},
   "outputs": [
    {
     "data": {
      "text/plain": [
       "6.690573313974481"
      ]
     },
     "execution_count": 467,
     "metadata": {},
     "output_type": "execute_result"
    }
   ],
   "source": [
    "row_count = df_cleaned.shape[0]\n",
    "bad_data_count = df_cleaned.member_gender.isna().sum()\n",
    "\n",
    "(bad_data_count/row_count) * 100"
   ]
  },
  {
   "cell_type": "markdown",
   "metadata": {},
   "source": [
    "will lose less than 10% of the total data by removing missing 'member_gender' data"
   ]
  },
  {
   "cell_type": "code",
   "execution_count": 468,
   "metadata": {},
   "outputs": [],
   "source": [
    "df_cleaned.dropna(subset = ['member_gender'], inplace=True)"
   ]
  },
  {
   "cell_type": "markdown",
   "metadata": {},
   "source": [
    "### Test"
   ]
  },
  {
   "cell_type": "code",
   "execution_count": 469,
   "metadata": {},
   "outputs": [
    {
     "data": {
      "text/plain": [
       "duration_sec                    0\n",
       "start_time                      0\n",
       "end_time                        0\n",
       "start_station_id            12167\n",
       "start_station_name          12167\n",
       "start_station_latitude          0\n",
       "start_station_longitude         0\n",
       "end_station_id              12167\n",
       "end_station_name            12167\n",
       "end_station_latitude            0\n",
       "end_station_longitude           0\n",
       "bike_id                         0\n",
       "user_type                       0\n",
       "member_birth_year             433\n",
       "member_gender                   0\n",
       "bike_share_for_all_trip    453238\n",
       "dtype: int64"
      ]
     },
     "execution_count": 469,
     "metadata": {},
     "output_type": "execute_result"
    }
   ],
   "source": [
    "# search for NaN values\n",
    "df_cleaned.isna().sum()"
   ]
  },
  {
   "cell_type": "markdown",
   "metadata": {},
   "source": [
    "NaN values have been removed from 'member_gender' column"
   ]
  },
  {
   "cell_type": "markdown",
   "metadata": {},
   "source": [
    "### Define\n",
    "- Remove empty 'member_birth_year' data"
   ]
  },
  {
   "cell_type": "markdown",
   "metadata": {},
   "source": [
    "### Code"
   ]
  },
  {
   "cell_type": "code",
   "execution_count": 470,
   "metadata": {},
   "outputs": [
    {
     "data": {
      "text/plain": [
       "0.014259406597922934"
      ]
     },
     "execution_count": 470,
     "metadata": {},
     "output_type": "execute_result"
    }
   ],
   "source": [
    "row_count = df_cleaned.shape[0]\n",
    "bad_data_count = df_cleaned.member_birth_year.isna().sum()\n",
    "\n",
    "(bad_data_count/row_count) * 100"
   ]
  },
  {
   "cell_type": "markdown",
   "metadata": {},
   "source": [
    "Will lose less than 0.01% of data by removing these rows of missing data"
   ]
  },
  {
   "cell_type": "code",
   "execution_count": 471,
   "metadata": {},
   "outputs": [],
   "source": [
    "df_cleaned.dropna(subset = ['member_birth_year'], inplace=True)"
   ]
  },
  {
   "cell_type": "markdown",
   "metadata": {},
   "source": [
    "### Test"
   ]
  },
  {
   "cell_type": "code",
   "execution_count": 472,
   "metadata": {},
   "outputs": [
    {
     "data": {
      "text/plain": [
       "duration_sec                    0\n",
       "start_time                      0\n",
       "end_time                        0\n",
       "start_station_id            12167\n",
       "start_station_name          12167\n",
       "start_station_latitude          0\n",
       "start_station_longitude         0\n",
       "end_station_id              12167\n",
       "end_station_name            12167\n",
       "end_station_latitude            0\n",
       "end_station_longitude           0\n",
       "bike_id                         0\n",
       "user_type                       0\n",
       "member_birth_year               0\n",
       "member_gender                   0\n",
       "bike_share_for_all_trip    453159\n",
       "dtype: int64"
      ]
     },
     "execution_count": 472,
     "metadata": {},
     "output_type": "execute_result"
    }
   ],
   "source": [
    "# search for NaN values\n",
    "df_cleaned.isna().sum()"
   ]
  },
  {
   "cell_type": "markdown",
   "metadata": {},
   "source": [
    "### Define\n",
    "- Remove NaN values in 'start_station_name' and 'end_station_name'"
   ]
  },
  {
   "cell_type": "markdown",
   "metadata": {},
   "source": [
    "### Code"
   ]
  },
  {
   "cell_type": "code",
   "execution_count": 473,
   "metadata": {},
   "outputs": [
    {
     "data": {
      "text/plain": [
       "0.8014731771293927"
      ]
     },
     "execution_count": 473,
     "metadata": {},
     "output_type": "execute_result"
    }
   ],
   "source": [
    "row_count = df_cleaned.shape[0]\n",
    "bad_data_count = df_cleaned.start_station_name.isna().sum()\n",
    "bad_data_count = bad_data_count + df_cleaned.end_station_name.isna().sum()\n",
    "\n",
    "(bad_data_count/row_count) * 100"
   ]
  },
  {
   "cell_type": "markdown",
   "metadata": {},
   "source": [
    "Removing the rows that are missing 'start_station_name' and 'end_station_name' will only remove less than 1% of the data"
   ]
  },
  {
   "cell_type": "code",
   "execution_count": 474,
   "metadata": {},
   "outputs": [],
   "source": [
    "df_cleaned.dropna(subset = ['start_station_name'], inplace=True)\n",
    "df_cleaned.dropna(subset = ['end_station_name'], inplace=True)"
   ]
  },
  {
   "cell_type": "markdown",
   "metadata": {},
   "source": [
    "### Test"
   ]
  },
  {
   "cell_type": "code",
   "execution_count": 475,
   "metadata": {},
   "outputs": [
    {
     "data": {
      "text/plain": [
       "duration_sec                    0\n",
       "start_time                      0\n",
       "end_time                        0\n",
       "start_station_id                0\n",
       "start_station_name              0\n",
       "start_station_latitude          0\n",
       "start_station_longitude         0\n",
       "end_station_id                  0\n",
       "end_station_name                0\n",
       "end_station_latitude            0\n",
       "end_station_longitude           0\n",
       "bike_id                         0\n",
       "user_type                       0\n",
       "member_birth_year               0\n",
       "member_gender                   0\n",
       "bike_share_for_all_trip    453159\n",
       "dtype: int64"
      ]
     },
     "execution_count": 475,
     "metadata": {},
     "output_type": "execute_result"
    }
   ],
   "source": [
    "# search for NaN values\n",
    "df_cleaned.isna().sum()"
   ]
  },
  {
   "cell_type": "markdown",
   "metadata": {},
   "source": [
    "Missing data in the 'bike_share_for_all_trip' should not impact data"
   ]
  },
  {
   "cell_type": "markdown",
   "metadata": {},
   "source": [
    "### Define\n",
    "- Convert 'start_time' and 'end_time' to dateTime datatype\n",
    "- Convert 'bike_id', 'start_station_id', 'end_station_id' to object datatype\n",
    "- Convert 'member_birth_year' to int datatype"
   ]
  },
  {
   "cell_type": "markdown",
   "metadata": {},
   "source": [
    "### Code"
   ]
  },
  {
   "cell_type": "code",
   "execution_count": 476,
   "metadata": {},
   "outputs": [
    {
     "name": "stdout",
     "output_type": "stream",
     "text": [
      "<class 'pandas.core.frame.DataFrame'>\n",
      "Int64Index: 3023992 entries, 0 to 3254324\n",
      "Data columns (total 16 columns):\n",
      " #   Column                   Dtype  \n",
      "---  ------                   -----  \n",
      " 0   duration_sec             int64  \n",
      " 1   start_time               object \n",
      " 2   end_time                 object \n",
      " 3   start_station_id         float64\n",
      " 4   start_station_name       object \n",
      " 5   start_station_latitude   float64\n",
      " 6   start_station_longitude  float64\n",
      " 7   end_station_id           float64\n",
      " 8   end_station_name         object \n",
      " 9   end_station_latitude     float64\n",
      " 10  end_station_longitude    float64\n",
      " 11  bike_id                  int64  \n",
      " 12  user_type                object \n",
      " 13  member_birth_year        float64\n",
      " 14  member_gender            object \n",
      " 15  bike_share_for_all_trip  object \n",
      "dtypes: float64(7), int64(2), object(7)\n",
      "memory usage: 392.2+ MB\n"
     ]
    }
   ],
   "source": [
    "df_cleaned.info()"
   ]
  },
  {
   "cell_type": "code",
   "execution_count": 477,
   "metadata": {},
   "outputs": [],
   "source": [
    "df_cleaned.start_time = pd.to_datetime(df_cleaned.start_time)\n",
    "df_cleaned.end_time = pd.to_datetime(df_cleaned.end_time)"
   ]
  },
  {
   "cell_type": "code",
   "execution_count": 478,
   "metadata": {},
   "outputs": [],
   "source": [
    "df_cleaned.bike_id = df_cleaned.astype(str)\n",
    "df_cleaned.start_station_id = df_cleaned.astype(str)\n",
    "df_cleaned.end_station_id = df_cleaned.astype(str)"
   ]
  },
  {
   "cell_type": "code",
   "execution_count": 494,
   "metadata": {},
   "outputs": [],
   "source": [
    "df_cleaned['member_birth_year'] = df_cleaned['member_birth_year'].apply(np.int64)"
   ]
  },
  {
   "cell_type": "markdown",
   "metadata": {},
   "source": [
    "### Test"
   ]
  },
  {
   "cell_type": "code",
   "execution_count": 495,
   "metadata": {},
   "outputs": [
    {
     "name": "stdout",
     "output_type": "stream",
     "text": [
      "<class 'pandas.core.frame.DataFrame'>\n",
      "Int64Index: 3023992 entries, 0 to 3254324\n",
      "Data columns (total 16 columns):\n",
      " #   Column                   Dtype         \n",
      "---  ------                   -----         \n",
      " 0   duration_sec             int64         \n",
      " 1   start_time               datetime64[ns]\n",
      " 2   end_time                 datetime64[ns]\n",
      " 3   start_station_id         object        \n",
      " 4   start_station_name       object        \n",
      " 5   start_station_latitude   float64       \n",
      " 6   start_station_longitude  float64       \n",
      " 7   end_station_id           object        \n",
      " 8   end_station_name         object        \n",
      " 9   end_station_latitude     float64       \n",
      " 10  end_station_longitude    float64       \n",
      " 11  bike_id                  object        \n",
      " 12  user_type                object        \n",
      " 13  member_birth_year        int64         \n",
      " 14  member_gender            object        \n",
      " 15  bike_share_for_all_trip  object        \n",
      "dtypes: datetime64[ns](2), float64(4), int64(2), object(8)\n",
      "memory usage: 392.2+ MB\n"
     ]
    }
   ],
   "source": [
    "df_cleaned.info()"
   ]
  },
  {
   "cell_type": "code",
   "execution_count": 496,
   "metadata": {},
   "outputs": [
    {
     "data": {
      "text/plain": [
       "1988    174225\n",
       "1987    148034\n",
       "1989    147454\n",
       "1990    140236\n",
       "1985    135498\n",
       "         ...  \n",
       "1886         3\n",
       "1906         2\n",
       "1930         2\n",
       "1903         1\n",
       "1910         1\n",
       "Name: member_birth_year, Length: 93, dtype: int64"
      ]
     },
     "execution_count": 496,
     "metadata": {},
     "output_type": "execute_result"
    }
   ],
   "source": [
    "df_cleaned.member_birth_year.value_counts()"
   ]
  },
  {
   "cell_type": "markdown",
   "metadata": {},
   "source": [
    "### Define\n",
    "- Calculate 'member_age' from 'member_birth_year'"
   ]
  },
  {
   "cell_type": "markdown",
   "metadata": {},
   "source": [
    "### Code"
   ]
  },
  {
   "cell_type": "code",
   "execution_count": 497,
   "metadata": {},
   "outputs": [],
   "source": [
    "df_cleaned['member_age'] = 2019 - df_cleaned['member_birth_year']"
   ]
  },
  {
   "cell_type": "markdown",
   "metadata": {},
   "source": [
    "### Test"
   ]
  },
  {
   "cell_type": "code",
   "execution_count": 498,
   "metadata": {},
   "outputs": [
    {
     "data": {
      "text/html": [
       "<div>\n",
       "<style scoped>\n",
       "    .dataframe tbody tr th:only-of-type {\n",
       "        vertical-align: middle;\n",
       "    }\n",
       "\n",
       "    .dataframe tbody tr th {\n",
       "        vertical-align: top;\n",
       "    }\n",
       "\n",
       "    .dataframe thead th {\n",
       "        text-align: right;\n",
       "    }\n",
       "</style>\n",
       "<table border=\"1\" class=\"dataframe\">\n",
       "  <thead>\n",
       "    <tr style=\"text-align: right;\">\n",
       "      <th></th>\n",
       "      <th>duration_sec</th>\n",
       "      <th>start_time</th>\n",
       "      <th>end_time</th>\n",
       "      <th>start_station_id</th>\n",
       "      <th>start_station_name</th>\n",
       "      <th>start_station_latitude</th>\n",
       "      <th>start_station_longitude</th>\n",
       "      <th>end_station_id</th>\n",
       "      <th>end_station_name</th>\n",
       "      <th>end_station_latitude</th>\n",
       "      <th>end_station_longitude</th>\n",
       "      <th>bike_id</th>\n",
       "      <th>user_type</th>\n",
       "      <th>member_birth_year</th>\n",
       "      <th>member_gender</th>\n",
       "      <th>bike_share_for_all_trip</th>\n",
       "      <th>member_age</th>\n",
       "    </tr>\n",
       "  </thead>\n",
       "  <tbody>\n",
       "    <tr>\n",
       "      <th>1794190</th>\n",
       "      <td>358</td>\n",
       "      <td>2018-09-20 17:42:52.809</td>\n",
       "      <td>2018-09-20 17:48:51.006</td>\n",
       "      <td>358</td>\n",
       "      <td>West Oakland BART Station</td>\n",
       "      <td>37.805318</td>\n",
       "      <td>-122.294837</td>\n",
       "      <td>358</td>\n",
       "      <td>14th St at Mandela Pkwy</td>\n",
       "      <td>37.810743</td>\n",
       "      <td>-122.291415</td>\n",
       "      <td>358</td>\n",
       "      <td>Subscriber</td>\n",
       "      <td>1996</td>\n",
       "      <td>Male</td>\n",
       "      <td>No</td>\n",
       "      <td>23</td>\n",
       "    </tr>\n",
       "    <tr>\n",
       "      <th>1264662</th>\n",
       "      <td>186</td>\n",
       "      <td>2018-06-12 19:12:12.063</td>\n",
       "      <td>2018-06-12 19:15:18.116</td>\n",
       "      <td>186</td>\n",
       "      <td>17th &amp; Folsom Street Park (17th St at Folsom St)</td>\n",
       "      <td>37.763708</td>\n",
       "      <td>-122.415204</td>\n",
       "      <td>186</td>\n",
       "      <td>19th St at Florida St</td>\n",
       "      <td>37.760447</td>\n",
       "      <td>-122.410807</td>\n",
       "      <td>186</td>\n",
       "      <td>Customer</td>\n",
       "      <td>1987</td>\n",
       "      <td>Male</td>\n",
       "      <td>No</td>\n",
       "      <td>32</td>\n",
       "    </tr>\n",
       "    <tr>\n",
       "      <th>2909943</th>\n",
       "      <td>141</td>\n",
       "      <td>2019-03-14 17:26:04.346</td>\n",
       "      <td>2019-03-14 17:28:26.318</td>\n",
       "      <td>141</td>\n",
       "      <td>MacArthur BART Station</td>\n",
       "      <td>37.828410</td>\n",
       "      <td>-122.266315</td>\n",
       "      <td>141</td>\n",
       "      <td>MacArthur Blvd at Telegraph Ave</td>\n",
       "      <td>37.826286</td>\n",
       "      <td>-122.265100</td>\n",
       "      <td>141</td>\n",
       "      <td>Subscriber</td>\n",
       "      <td>1988</td>\n",
       "      <td>Female</td>\n",
       "      <td>No</td>\n",
       "      <td>31</td>\n",
       "    </tr>\n",
       "    <tr>\n",
       "      <th>444111</th>\n",
       "      <td>102</td>\n",
       "      <td>2017-08-13 01:20:58.815</td>\n",
       "      <td>2017-08-13 01:22:41.678</td>\n",
       "      <td>102</td>\n",
       "      <td>18th St at Noe St</td>\n",
       "      <td>37.761047</td>\n",
       "      <td>-122.432642</td>\n",
       "      <td>102</td>\n",
       "      <td>Mission Dolores Park</td>\n",
       "      <td>37.761420</td>\n",
       "      <td>-122.426435</td>\n",
       "      <td>102</td>\n",
       "      <td>Subscriber</td>\n",
       "      <td>1988</td>\n",
       "      <td>Male</td>\n",
       "      <td>NaN</td>\n",
       "      <td>31</td>\n",
       "    </tr>\n",
       "    <tr>\n",
       "      <th>1944623</th>\n",
       "      <td>814</td>\n",
       "      <td>2018-10-27 11:48:20.886</td>\n",
       "      <td>2018-10-27 12:01:55.355</td>\n",
       "      <td>814</td>\n",
       "      <td>Grove St at Divisadero</td>\n",
       "      <td>37.775946</td>\n",
       "      <td>-122.437777</td>\n",
       "      <td>814</td>\n",
       "      <td>Harrison St at 20th St</td>\n",
       "      <td>37.758862</td>\n",
       "      <td>-122.412544</td>\n",
       "      <td>814</td>\n",
       "      <td>Customer</td>\n",
       "      <td>1992</td>\n",
       "      <td>Male</td>\n",
       "      <td>No</td>\n",
       "      <td>27</td>\n",
       "    </tr>\n",
       "  </tbody>\n",
       "</table>\n",
       "</div>"
      ],
      "text/plain": [
       "         duration_sec              start_time                end_time  \\\n",
       "1794190           358 2018-09-20 17:42:52.809 2018-09-20 17:48:51.006   \n",
       "1264662           186 2018-06-12 19:12:12.063 2018-06-12 19:15:18.116   \n",
       "2909943           141 2019-03-14 17:26:04.346 2019-03-14 17:28:26.318   \n",
       "444111            102 2017-08-13 01:20:58.815 2017-08-13 01:22:41.678   \n",
       "1944623           814 2018-10-27 11:48:20.886 2018-10-27 12:01:55.355   \n",
       "\n",
       "        start_station_id                                start_station_name  \\\n",
       "1794190              358                         West Oakland BART Station   \n",
       "1264662              186  17th & Folsom Street Park (17th St at Folsom St)   \n",
       "2909943              141                            MacArthur BART Station   \n",
       "444111               102                                 18th St at Noe St   \n",
       "1944623              814                            Grove St at Divisadero   \n",
       "\n",
       "         start_station_latitude  start_station_longitude end_station_id  \\\n",
       "1794190               37.805318              -122.294837            358   \n",
       "1264662               37.763708              -122.415204            186   \n",
       "2909943               37.828410              -122.266315            141   \n",
       "444111                37.761047              -122.432642            102   \n",
       "1944623               37.775946              -122.437777            814   \n",
       "\n",
       "                        end_station_name  end_station_latitude  \\\n",
       "1794190          14th St at Mandela Pkwy             37.810743   \n",
       "1264662            19th St at Florida St             37.760447   \n",
       "2909943  MacArthur Blvd at Telegraph Ave             37.826286   \n",
       "444111              Mission Dolores Park             37.761420   \n",
       "1944623           Harrison St at 20th St             37.758862   \n",
       "\n",
       "         end_station_longitude bike_id   user_type  member_birth_year  \\\n",
       "1794190            -122.291415     358  Subscriber               1996   \n",
       "1264662            -122.410807     186    Customer               1987   \n",
       "2909943            -122.265100     141  Subscriber               1988   \n",
       "444111             -122.426435     102  Subscriber               1988   \n",
       "1944623            -122.412544     814    Customer               1992   \n",
       "\n",
       "        member_gender bike_share_for_all_trip  member_age  \n",
       "1794190          Male                      No          23  \n",
       "1264662          Male                      No          32  \n",
       "2909943        Female                      No          31  \n",
       "444111           Male                     NaN          31  \n",
       "1944623          Male                      No          27  "
      ]
     },
     "execution_count": 498,
     "metadata": {},
     "output_type": "execute_result"
    }
   ],
   "source": [
    "df_cleaned.sample(5)"
   ]
  },
  {
   "cell_type": "code",
   "execution_count": 499,
   "metadata": {},
   "outputs": [
    {
     "data": {
      "text/plain": [
       "31     174225\n",
       "32     148034\n",
       "30     147454\n",
       "29     140236\n",
       "34     135498\n",
       "        ...  \n",
       "133         3\n",
       "113         2\n",
       "89          2\n",
       "116         1\n",
       "109         1\n",
       "Name: member_age, Length: 93, dtype: int64"
      ]
     },
     "execution_count": 499,
     "metadata": {},
     "output_type": "execute_result"
    }
   ],
   "source": [
    "df_cleaned.member_age.value_counts()"
   ]
  },
  {
   "cell_type": "code",
   "execution_count": 500,
   "metadata": {},
   "outputs": [
    {
     "name": "stdout",
     "output_type": "stream",
     "text": [
      "max age: 141 || min age: 18\n"
     ]
    }
   ],
   "source": [
    "print('max age: ' + str(df_cleaned['member_age'].max()) + ' || min age: ' + str(df_cleaned['member_age'].min()))"
   ]
  },
  {
   "cell_type": "markdown",
   "metadata": {},
   "source": [
    "The 'member_age' data includes members that are over 100 years old. This seems highly unlikely."
   ]
  },
  {
   "cell_type": "markdown",
   "metadata": {},
   "source": [
    "### Define\n",
    "- Eliminate any user that is over 100 years old, it is highly unlikely people over 100 would be riding bikes in a high enough volume to make a meangingfull impact on the analysis"
   ]
  },
  {
   "cell_type": "markdown",
   "metadata": {},
   "source": [
    "### Code"
   ]
  },
  {
   "cell_type": "code",
   "execution_count": 501,
   "metadata": {},
   "outputs": [
    {
     "data": {
      "text/plain": [
       "0.06326074936706182"
      ]
     },
     "execution_count": 501,
     "metadata": {},
     "output_type": "execute_result"
    }
   ],
   "source": [
    "row_count = df_cleaned.shape[0]\n",
    "bad_data_count = (df_cleaned.member_age >= 100).sum()\n",
    "\n",
    "(bad_data_count/row_count) * 100"
   ]
  },
  {
   "cell_type": "markdown",
   "metadata": {},
   "source": [
    "As thought by eliminating any member that is older than 100 we will remove less than 0.1% of the data."
   ]
  },
  {
   "cell_type": "code",
   "execution_count": 502,
   "metadata": {},
   "outputs": [
    {
     "data": {
      "text/plain": [
       "0.1917994492048921"
      ]
     },
     "execution_count": 502,
     "metadata": {},
     "output_type": "execute_result"
    }
   ],
   "source": [
    "row_count = df_cleaned.shape[0]\n",
    "bad_data_count = (df_cleaned.member_age > 75).sum()\n",
    "\n",
    "(bad_data_count/row_count) * 100"
   ]
  },
  {
   "cell_type": "code",
   "execution_count": 503,
   "metadata": {},
   "outputs": [
    {
     "data": {
      "text/plain": [
       "2.5462038259360473"
      ]
     },
     "execution_count": 503,
     "metadata": {},
     "output_type": "execute_result"
    }
   ],
   "source": [
    "row_count = df_cleaned.shape[0]\n",
    "bad_data_count = (df_cleaned.member_age > 60).sum()\n",
    "\n",
    "(bad_data_count/row_count) * 100"
   ]
  },
  {
   "cell_type": "markdown",
   "metadata": {},
   "source": [
    "By removing any users old than 75 we will only remove 0.19% of the data"
   ]
  },
  {
   "cell_type": "code",
   "execution_count": 504,
   "metadata": {},
   "outputs": [
    {
     "data": {
      "text/plain": [
       "(3023992, 17)"
      ]
     },
     "execution_count": 504,
     "metadata": {},
     "output_type": "execute_result"
    }
   ],
   "source": [
    "df_cleaned.shape"
   ]
  },
  {
   "cell_type": "code",
   "execution_count": 505,
   "metadata": {},
   "outputs": [
    {
     "data": {
      "text/plain": [
       "(3017675, 17)"
      ]
     },
     "execution_count": 505,
     "metadata": {},
     "output_type": "execute_result"
    }
   ],
   "source": [
    "df_cleaned = df_cleaned[df_cleaned.member_age < 75]\n",
    "df_cleaned.shape"
   ]
  },
  {
   "cell_type": "markdown",
   "metadata": {},
   "source": [
    "### Test"
   ]
  },
  {
   "cell_type": "code",
   "execution_count": 506,
   "metadata": {},
   "outputs": [
    {
     "data": {
      "text/html": [
       "<div>\n",
       "<style scoped>\n",
       "    .dataframe tbody tr th:only-of-type {\n",
       "        vertical-align: middle;\n",
       "    }\n",
       "\n",
       "    .dataframe tbody tr th {\n",
       "        vertical-align: top;\n",
       "    }\n",
       "\n",
       "    .dataframe thead th {\n",
       "        text-align: right;\n",
       "    }\n",
       "</style>\n",
       "<table border=\"1\" class=\"dataframe\">\n",
       "  <thead>\n",
       "    <tr style=\"text-align: right;\">\n",
       "      <th></th>\n",
       "      <th>duration_sec</th>\n",
       "      <th>start_time</th>\n",
       "      <th>end_time</th>\n",
       "      <th>start_station_id</th>\n",
       "      <th>start_station_name</th>\n",
       "      <th>start_station_latitude</th>\n",
       "      <th>start_station_longitude</th>\n",
       "      <th>end_station_id</th>\n",
       "      <th>end_station_name</th>\n",
       "      <th>end_station_latitude</th>\n",
       "      <th>end_station_longitude</th>\n",
       "      <th>bike_id</th>\n",
       "      <th>user_type</th>\n",
       "      <th>member_birth_year</th>\n",
       "      <th>member_gender</th>\n",
       "      <th>bike_share_for_all_trip</th>\n",
       "      <th>member_age</th>\n",
       "    </tr>\n",
       "  </thead>\n",
       "  <tbody>\n",
       "  </tbody>\n",
       "</table>\n",
       "</div>"
      ],
      "text/plain": [
       "Empty DataFrame\n",
       "Columns: [duration_sec, start_time, end_time, start_station_id, start_station_name, start_station_latitude, start_station_longitude, end_station_id, end_station_name, end_station_latitude, end_station_longitude, bike_id, user_type, member_birth_year, member_gender, bike_share_for_all_trip, member_age]\n",
       "Index: []"
      ]
     },
     "execution_count": 506,
     "metadata": {},
     "output_type": "execute_result"
    }
   ],
   "source": [
    "df_cleaned[df_cleaned.member_age > 75]"
   ]
  },
  {
   "cell_type": "code",
   "execution_count": 507,
   "metadata": {},
   "outputs": [
    {
     "name": "stdout",
     "output_type": "stream",
     "text": [
      "% change: 0.20889605528056954\n"
     ]
    }
   ],
   "source": [
    "print('% change: ' + str(((3023992 - 3017675) / 3023992) * 100))"
   ]
  },
  {
   "cell_type": "markdown",
   "metadata": {},
   "source": [
    "### Define\n",
    "- calculate 'start_time_month', 'start_time_day', 'start_time_weekday', 'start_time_hour'\n",
    "- calculate 'end_time_month', 'end_time_day', 'end_time_weekday', 'end_time_hour'"
   ]
  },
  {
   "cell_type": "markdown",
   "metadata": {},
   "source": [
    "### Code"
   ]
  },
  {
   "cell_type": "code",
   "execution_count": 508,
   "metadata": {},
   "outputs": [],
   "source": [
    "df_cleaned['start_time_month']=df_cleaned['start_time'].dt.strftime('%B')\n",
    "df_cleaned['start_time_day']=df_cleaned['start_time'].dt.day.astype(int)\n",
    "df_cleaned['start_time_weekday']=df_cleaned['start_time'].dt.strftime('%a')\n",
    "df_cleaned['start_time_hour']=df_cleaned['start_time'].dt.hour\n",
    "\n",
    "\n",
    "df_cleaned['end_time_month']=df_cleaned['end_time'].dt.strftime('%B')\n",
    "df_cleaned['end_time_day']=df_cleaned['end_time'].dt.day.astype(int)\n",
    "df_cleaned['end_time_weekday']=df_cleaned['end_time'].dt.strftime('%a')\n",
    "df_cleaned['end_time_hour']=df_cleaned['end_time'].dt.hour\n"
   ]
  },
  {
   "cell_type": "markdown",
   "metadata": {},
   "source": [
    "### Test"
   ]
  },
  {
   "cell_type": "code",
   "execution_count": 509,
   "metadata": {},
   "outputs": [
    {
     "data": {
      "text/html": [
       "<div>\n",
       "<style scoped>\n",
       "    .dataframe tbody tr th:only-of-type {\n",
       "        vertical-align: middle;\n",
       "    }\n",
       "\n",
       "    .dataframe tbody tr th {\n",
       "        vertical-align: top;\n",
       "    }\n",
       "\n",
       "    .dataframe thead th {\n",
       "        text-align: right;\n",
       "    }\n",
       "</style>\n",
       "<table border=\"1\" class=\"dataframe\">\n",
       "  <thead>\n",
       "    <tr style=\"text-align: right;\">\n",
       "      <th></th>\n",
       "      <th>duration_sec</th>\n",
       "      <th>start_time</th>\n",
       "      <th>end_time</th>\n",
       "      <th>start_station_id</th>\n",
       "      <th>start_station_name</th>\n",
       "      <th>start_station_latitude</th>\n",
       "      <th>start_station_longitude</th>\n",
       "      <th>end_station_id</th>\n",
       "      <th>end_station_name</th>\n",
       "      <th>end_station_latitude</th>\n",
       "      <th>...</th>\n",
       "      <th>bike_share_for_all_trip</th>\n",
       "      <th>member_age</th>\n",
       "      <th>start_time_month</th>\n",
       "      <th>start_time_day</th>\n",
       "      <th>start_time_weekday</th>\n",
       "      <th>start_time_hour</th>\n",
       "      <th>end_time_month</th>\n",
       "      <th>end_time_day</th>\n",
       "      <th>end_time_weekday</th>\n",
       "      <th>end_time_hour</th>\n",
       "    </tr>\n",
       "  </thead>\n",
       "  <tbody>\n",
       "    <tr>\n",
       "      <th>0</th>\n",
       "      <td>80110</td>\n",
       "      <td>2017-12-31 16:57:39.654</td>\n",
       "      <td>2018-01-01 15:12:50.245</td>\n",
       "      <td>80110</td>\n",
       "      <td>Laguna St at Hayes St</td>\n",
       "      <td>37.776435</td>\n",
       "      <td>-122.426244</td>\n",
       "      <td>80110</td>\n",
       "      <td>San Francisco Public Library (Grove St at Hyde...</td>\n",
       "      <td>37.778768</td>\n",
       "      <td>...</td>\n",
       "      <td>NaN</td>\n",
       "      <td>32</td>\n",
       "      <td>December</td>\n",
       "      <td>31</td>\n",
       "      <td>Sun</td>\n",
       "      <td>16</td>\n",
       "      <td>January</td>\n",
       "      <td>1</td>\n",
       "      <td>Mon</td>\n",
       "      <td>15</td>\n",
       "    </tr>\n",
       "    <tr>\n",
       "      <th>1</th>\n",
       "      <td>78800</td>\n",
       "      <td>2017-12-31 15:56:34.842</td>\n",
       "      <td>2018-01-01 13:49:55.617</td>\n",
       "      <td>78800</td>\n",
       "      <td>Yerba Buena Center for the Arts (Howard St at ...</td>\n",
       "      <td>37.784872</td>\n",
       "      <td>-122.400876</td>\n",
       "      <td>78800</td>\n",
       "      <td>Dolores St at 15th St</td>\n",
       "      <td>37.766210</td>\n",
       "      <td>...</td>\n",
       "      <td>NaN</td>\n",
       "      <td>54</td>\n",
       "      <td>December</td>\n",
       "      <td>31</td>\n",
       "      <td>Sun</td>\n",
       "      <td>15</td>\n",
       "      <td>January</td>\n",
       "      <td>1</td>\n",
       "      <td>Mon</td>\n",
       "      <td>13</td>\n",
       "    </tr>\n",
       "    <tr>\n",
       "      <th>4</th>\n",
       "      <td>43603</td>\n",
       "      <td>2017-12-31 14:23:14.001</td>\n",
       "      <td>2018-01-01 02:29:57.571</td>\n",
       "      <td>43603</td>\n",
       "      <td>Bancroft Way at Telegraph Ave</td>\n",
       "      <td>37.868813</td>\n",
       "      <td>-122.258764</td>\n",
       "      <td>43603</td>\n",
       "      <td>Fulton St at Bancroft Way</td>\n",
       "      <td>37.867789</td>\n",
       "      <td>...</td>\n",
       "      <td>NaN</td>\n",
       "      <td>22</td>\n",
       "      <td>December</td>\n",
       "      <td>31</td>\n",
       "      <td>Sun</td>\n",
       "      <td>14</td>\n",
       "      <td>January</td>\n",
       "      <td>1</td>\n",
       "      <td>Mon</td>\n",
       "      <td>2</td>\n",
       "    </tr>\n",
       "    <tr>\n",
       "      <th>6</th>\n",
       "      <td>4507</td>\n",
       "      <td>2017-12-31 23:49:28.422</td>\n",
       "      <td>2018-01-01 01:04:35.619</td>\n",
       "      <td>4507</td>\n",
       "      <td>Addison St at Fourth St</td>\n",
       "      <td>37.866249</td>\n",
       "      <td>-122.299371</td>\n",
       "      <td>4507</td>\n",
       "      <td>Addison St at Fourth St</td>\n",
       "      <td>37.866249</td>\n",
       "      <td>...</td>\n",
       "      <td>NaN</td>\n",
       "      <td>28</td>\n",
       "      <td>December</td>\n",
       "      <td>31</td>\n",
       "      <td>Sun</td>\n",
       "      <td>23</td>\n",
       "      <td>January</td>\n",
       "      <td>1</td>\n",
       "      <td>Mon</td>\n",
       "      <td>1</td>\n",
       "    </tr>\n",
       "    <tr>\n",
       "      <th>12</th>\n",
       "      <td>2183</td>\n",
       "      <td>2017-12-31 23:52:55.581</td>\n",
       "      <td>2018-01-01 00:29:18.743</td>\n",
       "      <td>2183</td>\n",
       "      <td>San Francisco Caltrain Station 2  (Townsend St...</td>\n",
       "      <td>37.776639</td>\n",
       "      <td>-122.395526</td>\n",
       "      <td>2183</td>\n",
       "      <td>Spear St at Folsom St</td>\n",
       "      <td>37.789677</td>\n",
       "      <td>...</td>\n",
       "      <td>NaN</td>\n",
       "      <td>29</td>\n",
       "      <td>December</td>\n",
       "      <td>31</td>\n",
       "      <td>Sun</td>\n",
       "      <td>23</td>\n",
       "      <td>January</td>\n",
       "      <td>1</td>\n",
       "      <td>Mon</td>\n",
       "      <td>0</td>\n",
       "    </tr>\n",
       "  </tbody>\n",
       "</table>\n",
       "<p>5 rows × 25 columns</p>\n",
       "</div>"
      ],
      "text/plain": [
       "    duration_sec              start_time                end_time  \\\n",
       "0          80110 2017-12-31 16:57:39.654 2018-01-01 15:12:50.245   \n",
       "1          78800 2017-12-31 15:56:34.842 2018-01-01 13:49:55.617   \n",
       "4          43603 2017-12-31 14:23:14.001 2018-01-01 02:29:57.571   \n",
       "6           4507 2017-12-31 23:49:28.422 2018-01-01 01:04:35.619   \n",
       "12          2183 2017-12-31 23:52:55.581 2018-01-01 00:29:18.743   \n",
       "\n",
       "   start_station_id                                 start_station_name  \\\n",
       "0             80110                              Laguna St at Hayes St   \n",
       "1             78800  Yerba Buena Center for the Arts (Howard St at ...   \n",
       "4             43603                      Bancroft Way at Telegraph Ave   \n",
       "6              4507                            Addison St at Fourth St   \n",
       "12             2183  San Francisco Caltrain Station 2  (Townsend St...   \n",
       "\n",
       "    start_station_latitude  start_station_longitude end_station_id  \\\n",
       "0                37.776435              -122.426244          80110   \n",
       "1                37.784872              -122.400876          78800   \n",
       "4                37.868813              -122.258764          43603   \n",
       "6                37.866249              -122.299371           4507   \n",
       "12               37.776639              -122.395526           2183   \n",
       "\n",
       "                                     end_station_name  end_station_latitude  \\\n",
       "0   San Francisco Public Library (Grove St at Hyde...             37.778768   \n",
       "1                               Dolores St at 15th St             37.766210   \n",
       "4                           Fulton St at Bancroft Way             37.867789   \n",
       "6                             Addison St at Fourth St             37.866249   \n",
       "12                              Spear St at Folsom St             37.789677   \n",
       "\n",
       "    ...  bike_share_for_all_trip member_age start_time_month  start_time_day  \\\n",
       "0   ...                      NaN         32         December              31   \n",
       "1   ...                      NaN         54         December              31   \n",
       "4   ...                      NaN         22         December              31   \n",
       "6   ...                      NaN         28         December              31   \n",
       "12  ...                      NaN         29         December              31   \n",
       "\n",
       "   start_time_weekday start_time_hour  end_time_month end_time_day  \\\n",
       "0                 Sun              16         January            1   \n",
       "1                 Sun              15         January            1   \n",
       "4                 Sun              14         January            1   \n",
       "6                 Sun              23         January            1   \n",
       "12                Sun              23         January            1   \n",
       "\n",
       "    end_time_weekday end_time_hour  \n",
       "0                Mon            15  \n",
       "1                Mon            13  \n",
       "4                Mon             2  \n",
       "6                Mon             1  \n",
       "12               Mon             0  \n",
       "\n",
       "[5 rows x 25 columns]"
      ]
     },
     "execution_count": 509,
     "metadata": {},
     "output_type": "execute_result"
    }
   ],
   "source": [
    "df_cleaned.head()"
   ]
  },
  {
   "cell_type": "markdown",
   "metadata": {},
   "source": [
    "### Define\n",
    "- Calculate 'duration_minutes' and 'duration_hours'"
   ]
  },
  {
   "cell_type": "markdown",
   "metadata": {},
   "source": [
    "### Code"
   ]
  },
  {
   "cell_type": "code",
   "execution_count": 510,
   "metadata": {},
   "outputs": [],
   "source": [
    "# Duration in seconds to duration in minutes\n",
    "df_cleaned['duration_minutes'] = df_cleaned['duration_sec'] / 60\n",
    "df_cleaned['duration_minutes'] = df_cleaned['duration_minutes'].astype(int)"
   ]
  },
  {
   "cell_type": "code",
   "execution_count": 511,
   "metadata": {},
   "outputs": [],
   "source": [
    "df_cleaned['duration_hours'] = (df_cleaned['duration_sec'] / 60) / 60\n",
    "df_cleaned['duration_hours'] = df_cleaned['duration_hours'].astype(int)"
   ]
  },
  {
   "cell_type": "markdown",
   "metadata": {},
   "source": [
    "### Test"
   ]
  },
  {
   "cell_type": "code",
   "execution_count": 512,
   "metadata": {},
   "outputs": [
    {
     "data": {
      "text/html": [
       "<div>\n",
       "<style scoped>\n",
       "    .dataframe tbody tr th:only-of-type {\n",
       "        vertical-align: middle;\n",
       "    }\n",
       "\n",
       "    .dataframe tbody tr th {\n",
       "        vertical-align: top;\n",
       "    }\n",
       "\n",
       "    .dataframe thead th {\n",
       "        text-align: right;\n",
       "    }\n",
       "</style>\n",
       "<table border=\"1\" class=\"dataframe\">\n",
       "  <thead>\n",
       "    <tr style=\"text-align: right;\">\n",
       "      <th></th>\n",
       "      <th>duration_sec</th>\n",
       "      <th>start_time</th>\n",
       "      <th>end_time</th>\n",
       "      <th>start_station_id</th>\n",
       "      <th>start_station_name</th>\n",
       "      <th>start_station_latitude</th>\n",
       "      <th>start_station_longitude</th>\n",
       "      <th>end_station_id</th>\n",
       "      <th>end_station_name</th>\n",
       "      <th>end_station_latitude</th>\n",
       "      <th>...</th>\n",
       "      <th>start_time_month</th>\n",
       "      <th>start_time_day</th>\n",
       "      <th>start_time_weekday</th>\n",
       "      <th>start_time_hour</th>\n",
       "      <th>end_time_month</th>\n",
       "      <th>end_time_day</th>\n",
       "      <th>end_time_weekday</th>\n",
       "      <th>end_time_hour</th>\n",
       "      <th>duration_minutes</th>\n",
       "      <th>duration_hours</th>\n",
       "    </tr>\n",
       "  </thead>\n",
       "  <tbody>\n",
       "    <tr>\n",
       "      <th>903922</th>\n",
       "      <td>1094</td>\n",
       "      <td>2018-04-16 09:53:42.475</td>\n",
       "      <td>2018-04-16 10:11:57.150</td>\n",
       "      <td>1094</td>\n",
       "      <td>Webster St at O'Farrell St</td>\n",
       "      <td>37.783521</td>\n",
       "      <td>-122.431158</td>\n",
       "      <td>1094</td>\n",
       "      <td>Spear St at Folsom St</td>\n",
       "      <td>37.789677</td>\n",
       "      <td>...</td>\n",
       "      <td>April</td>\n",
       "      <td>16</td>\n",
       "      <td>Mon</td>\n",
       "      <td>9</td>\n",
       "      <td>April</td>\n",
       "      <td>16</td>\n",
       "      <td>Mon</td>\n",
       "      <td>10</td>\n",
       "      <td>18</td>\n",
       "      <td>0</td>\n",
       "    </tr>\n",
       "    <tr>\n",
       "      <th>630220</th>\n",
       "      <td>243</td>\n",
       "      <td>2018-02-24 09:50:52.220</td>\n",
       "      <td>2018-02-24 09:54:55.561</td>\n",
       "      <td>243</td>\n",
       "      <td>Grand Ave at Perkins St</td>\n",
       "      <td>37.808894</td>\n",
       "      <td>-122.256460</td>\n",
       "      <td>243</td>\n",
       "      <td>Grand Ave at Webster St</td>\n",
       "      <td>37.811377</td>\n",
       "      <td>...</td>\n",
       "      <td>February</td>\n",
       "      <td>24</td>\n",
       "      <td>Sat</td>\n",
       "      <td>9</td>\n",
       "      <td>February</td>\n",
       "      <td>24</td>\n",
       "      <td>Sat</td>\n",
       "      <td>9</td>\n",
       "      <td>4</td>\n",
       "      <td>0</td>\n",
       "    </tr>\n",
       "    <tr>\n",
       "      <th>1424518</th>\n",
       "      <td>628</td>\n",
       "      <td>2018-07-18 21:07:11.953</td>\n",
       "      <td>2018-07-18 21:17:40.409</td>\n",
       "      <td>628</td>\n",
       "      <td>San Francisco Ferry Building (Harry Bridges Pl...</td>\n",
       "      <td>37.795392</td>\n",
       "      <td>-122.394203</td>\n",
       "      <td>628</td>\n",
       "      <td>2nd St at Townsend St</td>\n",
       "      <td>37.780526</td>\n",
       "      <td>...</td>\n",
       "      <td>July</td>\n",
       "      <td>18</td>\n",
       "      <td>Wed</td>\n",
       "      <td>21</td>\n",
       "      <td>July</td>\n",
       "      <td>18</td>\n",
       "      <td>Wed</td>\n",
       "      <td>21</td>\n",
       "      <td>10</td>\n",
       "      <td>0</td>\n",
       "    </tr>\n",
       "    <tr>\n",
       "      <th>2558733</th>\n",
       "      <td>946</td>\n",
       "      <td>2019-01-04 10:44:13.992</td>\n",
       "      <td>2019-01-04 11:00:00.525</td>\n",
       "      <td>946</td>\n",
       "      <td>Page St at Scott St</td>\n",
       "      <td>37.772406</td>\n",
       "      <td>-122.435650</td>\n",
       "      <td>946</td>\n",
       "      <td>Howard St at 2nd St</td>\n",
       "      <td>37.787522</td>\n",
       "      <td>...</td>\n",
       "      <td>January</td>\n",
       "      <td>4</td>\n",
       "      <td>Fri</td>\n",
       "      <td>10</td>\n",
       "      <td>January</td>\n",
       "      <td>4</td>\n",
       "      <td>Fri</td>\n",
       "      <td>11</td>\n",
       "      <td>15</td>\n",
       "      <td>0</td>\n",
       "    </tr>\n",
       "    <tr>\n",
       "      <th>450763</th>\n",
       "      <td>445</td>\n",
       "      <td>2017-08-10 10:04:05.817</td>\n",
       "      <td>2017-08-10 10:11:31.493</td>\n",
       "      <td>445</td>\n",
       "      <td>San Francisco Ferry Building (Harry Bridges Pl...</td>\n",
       "      <td>37.795392</td>\n",
       "      <td>-122.394203</td>\n",
       "      <td>445</td>\n",
       "      <td>The Embarcadero at Sansome St</td>\n",
       "      <td>37.804770</td>\n",
       "      <td>...</td>\n",
       "      <td>August</td>\n",
       "      <td>10</td>\n",
       "      <td>Thu</td>\n",
       "      <td>10</td>\n",
       "      <td>August</td>\n",
       "      <td>10</td>\n",
       "      <td>Thu</td>\n",
       "      <td>10</td>\n",
       "      <td>7</td>\n",
       "      <td>0</td>\n",
       "    </tr>\n",
       "    <tr>\n",
       "      <th>395920</th>\n",
       "      <td>397</td>\n",
       "      <td>2017-08-30 09:22:24.191</td>\n",
       "      <td>2017-08-30 09:29:01.598</td>\n",
       "      <td>397</td>\n",
       "      <td>Beale St at Harrison St</td>\n",
       "      <td>37.788059</td>\n",
       "      <td>-122.391865</td>\n",
       "      <td>397</td>\n",
       "      <td>3rd St at Townsend St</td>\n",
       "      <td>37.778742</td>\n",
       "      <td>...</td>\n",
       "      <td>August</td>\n",
       "      <td>30</td>\n",
       "      <td>Wed</td>\n",
       "      <td>9</td>\n",
       "      <td>August</td>\n",
       "      <td>30</td>\n",
       "      <td>Wed</td>\n",
       "      <td>9</td>\n",
       "      <td>6</td>\n",
       "      <td>0</td>\n",
       "    </tr>\n",
       "    <tr>\n",
       "      <th>2499746</th>\n",
       "      <td>536</td>\n",
       "      <td>2019-01-15 16:40:02.400</td>\n",
       "      <td>2019-01-15 16:48:59.018</td>\n",
       "      <td>536</td>\n",
       "      <td>Howard St at Beale St</td>\n",
       "      <td>37.789756</td>\n",
       "      <td>-122.394643</td>\n",
       "      <td>536</td>\n",
       "      <td>Berry St at 4th St</td>\n",
       "      <td>37.775880</td>\n",
       "      <td>...</td>\n",
       "      <td>January</td>\n",
       "      <td>15</td>\n",
       "      <td>Tue</td>\n",
       "      <td>16</td>\n",
       "      <td>January</td>\n",
       "      <td>15</td>\n",
       "      <td>Tue</td>\n",
       "      <td>16</td>\n",
       "      <td>8</td>\n",
       "      <td>0</td>\n",
       "    </tr>\n",
       "    <tr>\n",
       "      <th>2632350</th>\n",
       "      <td>814</td>\n",
       "      <td>2019-02-21 08:39:07.311</td>\n",
       "      <td>2019-02-21 08:52:42.175</td>\n",
       "      <td>814</td>\n",
       "      <td>Duboce Park</td>\n",
       "      <td>37.769201</td>\n",
       "      <td>-122.433812</td>\n",
       "      <td>814</td>\n",
       "      <td>San Francisco Caltrain Station 2  (Townsend St...</td>\n",
       "      <td>37.776639</td>\n",
       "      <td>...</td>\n",
       "      <td>February</td>\n",
       "      <td>21</td>\n",
       "      <td>Thu</td>\n",
       "      <td>8</td>\n",
       "      <td>February</td>\n",
       "      <td>21</td>\n",
       "      <td>Thu</td>\n",
       "      <td>8</td>\n",
       "      <td>13</td>\n",
       "      <td>0</td>\n",
       "    </tr>\n",
       "    <tr>\n",
       "      <th>1942994</th>\n",
       "      <td>1788</td>\n",
       "      <td>2018-10-27 16:33:54.046</td>\n",
       "      <td>2018-10-27 17:03:42.945</td>\n",
       "      <td>1788</td>\n",
       "      <td>Webster St at O'Farrell St</td>\n",
       "      <td>37.783521</td>\n",
       "      <td>-122.431158</td>\n",
       "      <td>1788</td>\n",
       "      <td>Raymond Kimbell Playground</td>\n",
       "      <td>37.783813</td>\n",
       "      <td>...</td>\n",
       "      <td>October</td>\n",
       "      <td>27</td>\n",
       "      <td>Sat</td>\n",
       "      <td>16</td>\n",
       "      <td>October</td>\n",
       "      <td>27</td>\n",
       "      <td>Sat</td>\n",
       "      <td>17</td>\n",
       "      <td>29</td>\n",
       "      <td>0</td>\n",
       "    </tr>\n",
       "    <tr>\n",
       "      <th>1160903</th>\n",
       "      <td>84</td>\n",
       "      <td>2018-06-28 09:11:45.895</td>\n",
       "      <td>2018-06-28 09:13:10.699</td>\n",
       "      <td>84</td>\n",
       "      <td>3rd St at Townsend St</td>\n",
       "      <td>37.778742</td>\n",
       "      <td>-122.392741</td>\n",
       "      <td>84</td>\n",
       "      <td>3rd St at Townsend St</td>\n",
       "      <td>37.778742</td>\n",
       "      <td>...</td>\n",
       "      <td>June</td>\n",
       "      <td>28</td>\n",
       "      <td>Thu</td>\n",
       "      <td>9</td>\n",
       "      <td>June</td>\n",
       "      <td>28</td>\n",
       "      <td>Thu</td>\n",
       "      <td>9</td>\n",
       "      <td>1</td>\n",
       "      <td>0</td>\n",
       "    </tr>\n",
       "  </tbody>\n",
       "</table>\n",
       "<p>10 rows × 27 columns</p>\n",
       "</div>"
      ],
      "text/plain": [
       "         duration_sec              start_time                end_time  \\\n",
       "903922           1094 2018-04-16 09:53:42.475 2018-04-16 10:11:57.150   \n",
       "630220            243 2018-02-24 09:50:52.220 2018-02-24 09:54:55.561   \n",
       "1424518           628 2018-07-18 21:07:11.953 2018-07-18 21:17:40.409   \n",
       "2558733           946 2019-01-04 10:44:13.992 2019-01-04 11:00:00.525   \n",
       "450763            445 2017-08-10 10:04:05.817 2017-08-10 10:11:31.493   \n",
       "395920            397 2017-08-30 09:22:24.191 2017-08-30 09:29:01.598   \n",
       "2499746           536 2019-01-15 16:40:02.400 2019-01-15 16:48:59.018   \n",
       "2632350           814 2019-02-21 08:39:07.311 2019-02-21 08:52:42.175   \n",
       "1942994          1788 2018-10-27 16:33:54.046 2018-10-27 17:03:42.945   \n",
       "1160903            84 2018-06-28 09:11:45.895 2018-06-28 09:13:10.699   \n",
       "\n",
       "        start_station_id                                 start_station_name  \\\n",
       "903922              1094                         Webster St at O'Farrell St   \n",
       "630220               243                            Grand Ave at Perkins St   \n",
       "1424518              628  San Francisco Ferry Building (Harry Bridges Pl...   \n",
       "2558733              946                                Page St at Scott St   \n",
       "450763               445  San Francisco Ferry Building (Harry Bridges Pl...   \n",
       "395920               397                            Beale St at Harrison St   \n",
       "2499746              536                              Howard St at Beale St   \n",
       "2632350              814                                        Duboce Park   \n",
       "1942994             1788                         Webster St at O'Farrell St   \n",
       "1160903               84                              3rd St at Townsend St   \n",
       "\n",
       "         start_station_latitude  start_station_longitude end_station_id  \\\n",
       "903922                37.783521              -122.431158           1094   \n",
       "630220                37.808894              -122.256460            243   \n",
       "1424518               37.795392              -122.394203            628   \n",
       "2558733               37.772406              -122.435650            946   \n",
       "450763                37.795392              -122.394203            445   \n",
       "395920                37.788059              -122.391865            397   \n",
       "2499746               37.789756              -122.394643            536   \n",
       "2632350               37.769201              -122.433812            814   \n",
       "1942994               37.783521              -122.431158           1788   \n",
       "1160903               37.778742              -122.392741             84   \n",
       "\n",
       "                                          end_station_name  \\\n",
       "903922                               Spear St at Folsom St   \n",
       "630220                             Grand Ave at Webster St   \n",
       "1424518                              2nd St at Townsend St   \n",
       "2558733                                Howard St at 2nd St   \n",
       "450763                       The Embarcadero at Sansome St   \n",
       "395920                               3rd St at Townsend St   \n",
       "2499746                                 Berry St at 4th St   \n",
       "2632350  San Francisco Caltrain Station 2  (Townsend St...   \n",
       "1942994                         Raymond Kimbell Playground   \n",
       "1160903                              3rd St at Townsend St   \n",
       "\n",
       "         end_station_latitude  ...  start_time_month start_time_day  \\\n",
       "903922              37.789677  ...             April             16   \n",
       "630220              37.811377  ...          February             24   \n",
       "1424518             37.780526  ...              July             18   \n",
       "2558733             37.787522  ...           January              4   \n",
       "450763              37.804770  ...            August             10   \n",
       "395920              37.778742  ...            August             30   \n",
       "2499746             37.775880  ...           January             15   \n",
       "2632350             37.776639  ...          February             21   \n",
       "1942994             37.783813  ...           October             27   \n",
       "1160903             37.778742  ...              June             28   \n",
       "\n",
       "        start_time_weekday  start_time_hour end_time_month end_time_day  \\\n",
       "903922                 Mon                9          April           16   \n",
       "630220                 Sat                9       February           24   \n",
       "1424518                Wed               21           July           18   \n",
       "2558733                Fri               10        January            4   \n",
       "450763                 Thu               10         August           10   \n",
       "395920                 Wed                9         August           30   \n",
       "2499746                Tue               16        January           15   \n",
       "2632350                Thu                8       February           21   \n",
       "1942994                Sat               16        October           27   \n",
       "1160903                Thu                9           June           28   \n",
       "\n",
       "         end_time_weekday end_time_hour  duration_minutes duration_hours  \n",
       "903922                Mon            10                18              0  \n",
       "630220                Sat             9                 4              0  \n",
       "1424518               Wed            21                10              0  \n",
       "2558733               Fri            11                15              0  \n",
       "450763                Thu            10                 7              0  \n",
       "395920                Wed             9                 6              0  \n",
       "2499746               Tue            16                 8              0  \n",
       "2632350               Thu             8                13              0  \n",
       "1942994               Sat            17                29              0  \n",
       "1160903               Thu             9                 1              0  \n",
       "\n",
       "[10 rows x 27 columns]"
      ]
     },
     "execution_count": 512,
     "metadata": {},
     "output_type": "execute_result"
    }
   ],
   "source": [
    "df_cleaned.sample(10)"
   ]
  },
  {
   "cell_type": "markdown",
   "metadata": {},
   "source": [
    "### Define\n",
    "- Calculate total distance for rides between stations using method found below\n",
    "    - https://www.movable-type.co.uk/scripts/latlong.html"
   ]
  },
  {
   "cell_type": "markdown",
   "metadata": {},
   "source": [
    "### Code"
   ]
  },
  {
   "cell_type": "code",
   "execution_count": 514,
   "metadata": {},
   "outputs": [
    {
     "data": {
      "text/html": [
       "<div>\n",
       "<style scoped>\n",
       "    .dataframe tbody tr th:only-of-type {\n",
       "        vertical-align: middle;\n",
       "    }\n",
       "\n",
       "    .dataframe tbody tr th {\n",
       "        vertical-align: top;\n",
       "    }\n",
       "\n",
       "    .dataframe thead th {\n",
       "        text-align: right;\n",
       "    }\n",
       "</style>\n",
       "<table border=\"1\" class=\"dataframe\">\n",
       "  <thead>\n",
       "    <tr style=\"text-align: right;\">\n",
       "      <th></th>\n",
       "      <th>duration_sec</th>\n",
       "      <th>start_time</th>\n",
       "      <th>end_time</th>\n",
       "      <th>start_station_id</th>\n",
       "      <th>start_station_name</th>\n",
       "      <th>start_station_latitude</th>\n",
       "      <th>start_station_longitude</th>\n",
       "      <th>end_station_id</th>\n",
       "      <th>end_station_name</th>\n",
       "      <th>end_station_latitude</th>\n",
       "      <th>...</th>\n",
       "      <th>start_time_month</th>\n",
       "      <th>start_time_day</th>\n",
       "      <th>start_time_weekday</th>\n",
       "      <th>start_time_hour</th>\n",
       "      <th>end_time_month</th>\n",
       "      <th>end_time_day</th>\n",
       "      <th>end_time_weekday</th>\n",
       "      <th>end_time_hour</th>\n",
       "      <th>duration_minutes</th>\n",
       "      <th>duration_hours</th>\n",
       "    </tr>\n",
       "  </thead>\n",
       "  <tbody>\n",
       "    <tr>\n",
       "      <th>0</th>\n",
       "      <td>80110</td>\n",
       "      <td>2017-12-31 16:57:39.654</td>\n",
       "      <td>2018-01-01 15:12:50.245</td>\n",
       "      <td>80110</td>\n",
       "      <td>Laguna St at Hayes St</td>\n",
       "      <td>37.776435</td>\n",
       "      <td>-122.426244</td>\n",
       "      <td>80110</td>\n",
       "      <td>San Francisco Public Library (Grove St at Hyde...</td>\n",
       "      <td>37.778768</td>\n",
       "      <td>...</td>\n",
       "      <td>December</td>\n",
       "      <td>31</td>\n",
       "      <td>Sun</td>\n",
       "      <td>16</td>\n",
       "      <td>January</td>\n",
       "      <td>1</td>\n",
       "      <td>Mon</td>\n",
       "      <td>15</td>\n",
       "      <td>1335</td>\n",
       "      <td>22</td>\n",
       "    </tr>\n",
       "  </tbody>\n",
       "</table>\n",
       "<p>1 rows × 27 columns</p>\n",
       "</div>"
      ],
      "text/plain": [
       "   duration_sec              start_time                end_time  \\\n",
       "0         80110 2017-12-31 16:57:39.654 2018-01-01 15:12:50.245   \n",
       "\n",
       "  start_station_id     start_station_name  start_station_latitude  \\\n",
       "0            80110  Laguna St at Hayes St               37.776435   \n",
       "\n",
       "   start_station_longitude end_station_id  \\\n",
       "0              -122.426244          80110   \n",
       "\n",
       "                                    end_station_name  end_station_latitude  \\\n",
       "0  San Francisco Public Library (Grove St at Hyde...             37.778768   \n",
       "\n",
       "   ...  start_time_month start_time_day start_time_weekday  start_time_hour  \\\n",
       "0  ...          December             31                Sun               16   \n",
       "\n",
       "  end_time_month end_time_day  end_time_weekday end_time_hour  \\\n",
       "0        January            1               Mon            15   \n",
       "\n",
       "   duration_minutes duration_hours  \n",
       "0              1335             22  \n",
       "\n",
       "[1 rows x 27 columns]"
      ]
     },
     "execution_count": 514,
     "metadata": {},
     "output_type": "execute_result"
    }
   ],
   "source": [
    "df_cleaned.head(1)"
   ]
  },
  {
   "cell_type": "code",
   "execution_count": 515,
   "metadata": {},
   "outputs": [],
   "source": [
    "import math\n",
    "from math import radians, sin, cos, acos\n",
    "\n",
    "def distance(origin, destination):\n",
    "\n",
    "    lat1, long1 = origin\n",
    "    lat2, long2 = destination\n",
    "    radius = 6371\n",
    "\n",
    "    dlat = math.radians(lat2 - lat1)\n",
    "    dlong = math.radians(long2 - long1)\n",
    "    \n",
    "    a = (math.sin(dlat / 2) * math.sin(dlat / 2) + math.cos(math.radians(lat1)) * math.cos(math.radians(lat2)) * math.sin(dlong / 2) * math.sin(dlong / 2))\n",
    "    c = 2 * math.atan2(math.sqrt(a), math.sqrt(1 - a))\n",
    "    d = radius * c\n",
    "\n",
    "    return d"
   ]
  },
  {
   "cell_type": "code",
   "execution_count": 516,
   "metadata": {},
   "outputs": [],
   "source": [
    "df_cleaned['distance_km'] = df_cleaned.apply(lambda x: distance((x['start_station_latitude'], x['start_station_longitude']), \n",
    "                                                                (x['end_station_latitude'], x['end_station_longitude'])), axis=1)"
   ]
  },
  {
   "cell_type": "markdown",
   "metadata": {},
   "source": [
    "Calling distance to calculate distance between the start and end point"
   ]
  },
  {
   "cell_type": "code",
   "execution_count": 518,
   "metadata": {},
   "outputs": [],
   "source": [
    "df_cleaned['distance_miles'] = df_cleaned['distance_km'] * 0.621371"
   ]
  },
  {
   "cell_type": "markdown",
   "metadata": {},
   "source": [
    "Convert 'distance_km' to 'distance_miles'"
   ]
  },
  {
   "cell_type": "code",
   "execution_count": 519,
   "metadata": {},
   "outputs": [],
   "source": [
    "df_cleaned['distance_km'] = df_cleaned['distance_km'].round(2)\n",
    "df_cleaned['distance_miles'] = df_cleaned['distance_miles'].round(2)"
   ]
  },
  {
   "cell_type": "markdown",
   "metadata": {},
   "source": [
    "Round kilometers and miles to 2 decimal places"
   ]
  },
  {
   "cell_type": "markdown",
   "metadata": {},
   "source": [
    "### Test"
   ]
  },
  {
   "cell_type": "code",
   "execution_count": 520,
   "metadata": {},
   "outputs": [
    {
     "data": {
      "text/html": [
       "<div>\n",
       "<style scoped>\n",
       "    .dataframe tbody tr th:only-of-type {\n",
       "        vertical-align: middle;\n",
       "    }\n",
       "\n",
       "    .dataframe tbody tr th {\n",
       "        vertical-align: top;\n",
       "    }\n",
       "\n",
       "    .dataframe thead th {\n",
       "        text-align: right;\n",
       "    }\n",
       "</style>\n",
       "<table border=\"1\" class=\"dataframe\">\n",
       "  <thead>\n",
       "    <tr style=\"text-align: right;\">\n",
       "      <th></th>\n",
       "      <th>duration_sec</th>\n",
       "      <th>start_time</th>\n",
       "      <th>end_time</th>\n",
       "      <th>start_station_id</th>\n",
       "      <th>start_station_name</th>\n",
       "      <th>start_station_latitude</th>\n",
       "      <th>start_station_longitude</th>\n",
       "      <th>end_station_id</th>\n",
       "      <th>end_station_name</th>\n",
       "      <th>end_station_latitude</th>\n",
       "      <th>...</th>\n",
       "      <th>start_time_weekday</th>\n",
       "      <th>start_time_hour</th>\n",
       "      <th>end_time_month</th>\n",
       "      <th>end_time_day</th>\n",
       "      <th>end_time_weekday</th>\n",
       "      <th>end_time_hour</th>\n",
       "      <th>duration_minutes</th>\n",
       "      <th>duration_hours</th>\n",
       "      <th>distance_km</th>\n",
       "      <th>distance_miles</th>\n",
       "    </tr>\n",
       "  </thead>\n",
       "  <tbody>\n",
       "    <tr>\n",
       "      <th>2359006</th>\n",
       "      <td>257</td>\n",
       "      <td>2018-12-06 12:46:19.370</td>\n",
       "      <td>2018-12-06 12:50:37.015</td>\n",
       "      <td>257</td>\n",
       "      <td>San Francisco City Hall (Polk St at Grove St)</td>\n",
       "      <td>37.778650</td>\n",
       "      <td>-122.418230</td>\n",
       "      <td>257</td>\n",
       "      <td>Powell St BART Station (Market St at 5th St)</td>\n",
       "      <td>37.783899</td>\n",
       "      <td>...</td>\n",
       "      <td>Thu</td>\n",
       "      <td>12</td>\n",
       "      <td>December</td>\n",
       "      <td>6</td>\n",
       "      <td>Thu</td>\n",
       "      <td>12</td>\n",
       "      <td>4</td>\n",
       "      <td>0</td>\n",
       "      <td>1.04</td>\n",
       "      <td>0.65</td>\n",
       "    </tr>\n",
       "    <tr>\n",
       "      <th>1865800</th>\n",
       "      <td>631</td>\n",
       "      <td>2018-09-10 12:35:57.238</td>\n",
       "      <td>2018-09-10 12:46:28.992</td>\n",
       "      <td>631</td>\n",
       "      <td>El Embarcadero at Grand Ave</td>\n",
       "      <td>37.808848</td>\n",
       "      <td>-122.249680</td>\n",
       "      <td>631</td>\n",
       "      <td>Lakeside Dr at 14th St</td>\n",
       "      <td>37.801319</td>\n",
       "      <td>...</td>\n",
       "      <td>Mon</td>\n",
       "      <td>12</td>\n",
       "      <td>September</td>\n",
       "      <td>10</td>\n",
       "      <td>Mon</td>\n",
       "      <td>12</td>\n",
       "      <td>10</td>\n",
       "      <td>0</td>\n",
       "      <td>1.41</td>\n",
       "      <td>0.88</td>\n",
       "    </tr>\n",
       "    <tr>\n",
       "      <th>111143</th>\n",
       "      <td>364</td>\n",
       "      <td>2017-11-21 23:34:41.623</td>\n",
       "      <td>2017-11-21 23:40:46.097</td>\n",
       "      <td>364</td>\n",
       "      <td>Julian St at The Alameda</td>\n",
       "      <td>37.332233</td>\n",
       "      <td>-121.912517</td>\n",
       "      <td>364</td>\n",
       "      <td>Santa Clara St at Almaden Blvd</td>\n",
       "      <td>37.333988</td>\n",
       "      <td>...</td>\n",
       "      <td>Tue</td>\n",
       "      <td>23</td>\n",
       "      <td>November</td>\n",
       "      <td>21</td>\n",
       "      <td>Tue</td>\n",
       "      <td>23</td>\n",
       "      <td>6</td>\n",
       "      <td>0</td>\n",
       "      <td>1.57</td>\n",
       "      <td>0.98</td>\n",
       "    </tr>\n",
       "    <tr>\n",
       "      <th>2908502</th>\n",
       "      <td>717</td>\n",
       "      <td>2019-03-14 18:24:05.635</td>\n",
       "      <td>2019-03-14 18:36:03.563</td>\n",
       "      <td>717</td>\n",
       "      <td>5th St at Brannan St</td>\n",
       "      <td>37.776754</td>\n",
       "      <td>-122.399018</td>\n",
       "      <td>717</td>\n",
       "      <td>Powell St BART Station (Market St at 5th St)</td>\n",
       "      <td>37.783899</td>\n",
       "      <td>...</td>\n",
       "      <td>Thu</td>\n",
       "      <td>18</td>\n",
       "      <td>March</td>\n",
       "      <td>14</td>\n",
       "      <td>Thu</td>\n",
       "      <td>18</td>\n",
       "      <td>11</td>\n",
       "      <td>0</td>\n",
       "      <td>1.15</td>\n",
       "      <td>0.71</td>\n",
       "    </tr>\n",
       "    <tr>\n",
       "      <th>1173968</th>\n",
       "      <td>550</td>\n",
       "      <td>2018-06-26 16:45:42.138</td>\n",
       "      <td>2018-06-26 16:54:52.723</td>\n",
       "      <td>550</td>\n",
       "      <td>San Francisco Caltrain (Townsend St at 4th St)</td>\n",
       "      <td>37.776598</td>\n",
       "      <td>-122.395282</td>\n",
       "      <td>550</td>\n",
       "      <td>Powell St BART Station (Market St at 5th St)</td>\n",
       "      <td>37.783899</td>\n",
       "      <td>...</td>\n",
       "      <td>Tue</td>\n",
       "      <td>16</td>\n",
       "      <td>June</td>\n",
       "      <td>26</td>\n",
       "      <td>Tue</td>\n",
       "      <td>16</td>\n",
       "      <td>9</td>\n",
       "      <td>0</td>\n",
       "      <td>1.41</td>\n",
       "      <td>0.88</td>\n",
       "    </tr>\n",
       "    <tr>\n",
       "      <th>1990610</th>\n",
       "      <td>1805</td>\n",
       "      <td>2018-10-19 18:30:16.794</td>\n",
       "      <td>2018-10-19 19:00:22.130</td>\n",
       "      <td>1805</td>\n",
       "      <td>San Fernando St at 4th St</td>\n",
       "      <td>37.335885</td>\n",
       "      <td>-121.885660</td>\n",
       "      <td>1805</td>\n",
       "      <td>5th St at Virginia St</td>\n",
       "      <td>37.325998</td>\n",
       "      <td>...</td>\n",
       "      <td>Fri</td>\n",
       "      <td>18</td>\n",
       "      <td>October</td>\n",
       "      <td>19</td>\n",
       "      <td>Fri</td>\n",
       "      <td>19</td>\n",
       "      <td>30</td>\n",
       "      <td>0</td>\n",
       "      <td>1.33</td>\n",
       "      <td>0.83</td>\n",
       "    </tr>\n",
       "    <tr>\n",
       "      <th>2958241</th>\n",
       "      <td>240</td>\n",
       "      <td>2019-03-08 18:16:34.085</td>\n",
       "      <td>2019-03-08 18:20:34.661</td>\n",
       "      <td>240</td>\n",
       "      <td>Lake Merritt BART Station</td>\n",
       "      <td>37.797320</td>\n",
       "      <td>-122.265320</td>\n",
       "      <td>240</td>\n",
       "      <td>Webster St at 2nd St</td>\n",
       "      <td>37.795195</td>\n",
       "      <td>...</td>\n",
       "      <td>Fri</td>\n",
       "      <td>18</td>\n",
       "      <td>March</td>\n",
       "      <td>8</td>\n",
       "      <td>Fri</td>\n",
       "      <td>18</td>\n",
       "      <td>4</td>\n",
       "      <td>0</td>\n",
       "      <td>0.80</td>\n",
       "      <td>0.49</td>\n",
       "    </tr>\n",
       "    <tr>\n",
       "      <th>35498</th>\n",
       "      <td>210</td>\n",
       "      <td>2017-12-15 08:53:37.164</td>\n",
       "      <td>2017-12-15 08:57:08.063</td>\n",
       "      <td>210</td>\n",
       "      <td>Grand Ave at Perkins St</td>\n",
       "      <td>37.808894</td>\n",
       "      <td>-122.256460</td>\n",
       "      <td>210</td>\n",
       "      <td>Snow Park</td>\n",
       "      <td>37.807813</td>\n",
       "      <td>...</td>\n",
       "      <td>Fri</td>\n",
       "      <td>8</td>\n",
       "      <td>December</td>\n",
       "      <td>15</td>\n",
       "      <td>Fri</td>\n",
       "      <td>8</td>\n",
       "      <td>3</td>\n",
       "      <td>0</td>\n",
       "      <td>0.72</td>\n",
       "      <td>0.44</td>\n",
       "    </tr>\n",
       "    <tr>\n",
       "      <th>598005</th>\n",
       "      <td>176</td>\n",
       "      <td>2018-01-08 12:04:05.871</td>\n",
       "      <td>2018-01-08 12:07:02.318</td>\n",
       "      <td>176</td>\n",
       "      <td>Steuart St at Market St</td>\n",
       "      <td>37.794130</td>\n",
       "      <td>-122.394430</td>\n",
       "      <td>176</td>\n",
       "      <td>Spear St at Folsom St</td>\n",
       "      <td>37.789677</td>\n",
       "      <td>...</td>\n",
       "      <td>Mon</td>\n",
       "      <td>12</td>\n",
       "      <td>January</td>\n",
       "      <td>8</td>\n",
       "      <td>Mon</td>\n",
       "      <td>12</td>\n",
       "      <td>2</td>\n",
       "      <td>0</td>\n",
       "      <td>0.61</td>\n",
       "      <td>0.38</td>\n",
       "    </tr>\n",
       "    <tr>\n",
       "      <th>2927327</th>\n",
       "      <td>541</td>\n",
       "      <td>2019-03-13 06:31:45.887</td>\n",
       "      <td>2019-03-13 06:40:47.652</td>\n",
       "      <td>541</td>\n",
       "      <td>Folsom St at 15th St</td>\n",
       "      <td>37.767037</td>\n",
       "      <td>-122.415443</td>\n",
       "      <td>541</td>\n",
       "      <td>San Francisco Caltrain Station 2  (Townsend St...</td>\n",
       "      <td>37.776639</td>\n",
       "      <td>...</td>\n",
       "      <td>Wed</td>\n",
       "      <td>6</td>\n",
       "      <td>March</td>\n",
       "      <td>13</td>\n",
       "      <td>Wed</td>\n",
       "      <td>6</td>\n",
       "      <td>9</td>\n",
       "      <td>0</td>\n",
       "      <td>2.05</td>\n",
       "      <td>1.27</td>\n",
       "    </tr>\n",
       "    <tr>\n",
       "      <th>2557906</th>\n",
       "      <td>599</td>\n",
       "      <td>2019-01-04 13:57:39.747</td>\n",
       "      <td>2019-01-04 14:07:38.961</td>\n",
       "      <td>599</td>\n",
       "      <td>Howard St at Beale St</td>\n",
       "      <td>37.789756</td>\n",
       "      <td>-122.394643</td>\n",
       "      <td>599</td>\n",
       "      <td>China Basin St at 3rd St</td>\n",
       "      <td>37.772000</td>\n",
       "      <td>...</td>\n",
       "      <td>Fri</td>\n",
       "      <td>13</td>\n",
       "      <td>January</td>\n",
       "      <td>4</td>\n",
       "      <td>Fri</td>\n",
       "      <td>14</td>\n",
       "      <td>9</td>\n",
       "      <td>0</td>\n",
       "      <td>2.02</td>\n",
       "      <td>1.25</td>\n",
       "    </tr>\n",
       "    <tr>\n",
       "      <th>2517220</th>\n",
       "      <td>134</td>\n",
       "      <td>2019-01-11 20:52:53.353</td>\n",
       "      <td>2019-01-11 20:55:07.493</td>\n",
       "      <td>134</td>\n",
       "      <td>19th Street BART Station</td>\n",
       "      <td>37.809013</td>\n",
       "      <td>-122.268247</td>\n",
       "      <td>134</td>\n",
       "      <td>Grand Ave at Webster St</td>\n",
       "      <td>37.811377</td>\n",
       "      <td>...</td>\n",
       "      <td>Fri</td>\n",
       "      <td>20</td>\n",
       "      <td>January</td>\n",
       "      <td>11</td>\n",
       "      <td>Fri</td>\n",
       "      <td>20</td>\n",
       "      <td>2</td>\n",
       "      <td>0</td>\n",
       "      <td>0.38</td>\n",
       "      <td>0.23</td>\n",
       "    </tr>\n",
       "    <tr>\n",
       "      <th>3214916</th>\n",
       "      <td>216</td>\n",
       "      <td>2019-04-04 19:21:26.523</td>\n",
       "      <td>2019-04-04 19:25:03.399</td>\n",
       "      <td>216</td>\n",
       "      <td>2nd St at Julian St</td>\n",
       "      <td>37.341132</td>\n",
       "      <td>-121.892844</td>\n",
       "      <td>216</td>\n",
       "      <td>Fountain Alley at S 2nd St</td>\n",
       "      <td>37.336188</td>\n",
       "      <td>...</td>\n",
       "      <td>Thu</td>\n",
       "      <td>19</td>\n",
       "      <td>April</td>\n",
       "      <td>4</td>\n",
       "      <td>Thu</td>\n",
       "      <td>19</td>\n",
       "      <td>3</td>\n",
       "      <td>0</td>\n",
       "      <td>0.63</td>\n",
       "      <td>0.39</td>\n",
       "    </tr>\n",
       "    <tr>\n",
       "      <th>846584</th>\n",
       "      <td>420</td>\n",
       "      <td>2018-04-27 18:41:41.499</td>\n",
       "      <td>2018-04-27 18:48:42.332</td>\n",
       "      <td>420</td>\n",
       "      <td>Powell St BART Station (Market St at 5th St)</td>\n",
       "      <td>37.783899</td>\n",
       "      <td>-122.408445</td>\n",
       "      <td>420</td>\n",
       "      <td>Folsom St at 3rd St</td>\n",
       "      <td>37.783830</td>\n",
       "      <td>...</td>\n",
       "      <td>Fri</td>\n",
       "      <td>18</td>\n",
       "      <td>April</td>\n",
       "      <td>27</td>\n",
       "      <td>Fri</td>\n",
       "      <td>18</td>\n",
       "      <td>7</td>\n",
       "      <td>0</td>\n",
       "      <td>0.84</td>\n",
       "      <td>0.52</td>\n",
       "    </tr>\n",
       "    <tr>\n",
       "      <th>781984</th>\n",
       "      <td>576</td>\n",
       "      <td>2018-03-15 18:28:08.705</td>\n",
       "      <td>2018-03-15 18:37:45.338</td>\n",
       "      <td>576</td>\n",
       "      <td>San Francisco Caltrain (Townsend St at 4th St)</td>\n",
       "      <td>37.776598</td>\n",
       "      <td>-122.395282</td>\n",
       "      <td>576</td>\n",
       "      <td>The Embarcadero at Vallejo St</td>\n",
       "      <td>37.799953</td>\n",
       "      <td>...</td>\n",
       "      <td>Thu</td>\n",
       "      <td>18</td>\n",
       "      <td>March</td>\n",
       "      <td>15</td>\n",
       "      <td>Thu</td>\n",
       "      <td>18</td>\n",
       "      <td>9</td>\n",
       "      <td>0</td>\n",
       "      <td>2.61</td>\n",
       "      <td>1.62</td>\n",
       "    </tr>\n",
       "  </tbody>\n",
       "</table>\n",
       "<p>15 rows × 29 columns</p>\n",
       "</div>"
      ],
      "text/plain": [
       "         duration_sec              start_time                end_time  \\\n",
       "2359006           257 2018-12-06 12:46:19.370 2018-12-06 12:50:37.015   \n",
       "1865800           631 2018-09-10 12:35:57.238 2018-09-10 12:46:28.992   \n",
       "111143            364 2017-11-21 23:34:41.623 2017-11-21 23:40:46.097   \n",
       "2908502           717 2019-03-14 18:24:05.635 2019-03-14 18:36:03.563   \n",
       "1173968           550 2018-06-26 16:45:42.138 2018-06-26 16:54:52.723   \n",
       "1990610          1805 2018-10-19 18:30:16.794 2018-10-19 19:00:22.130   \n",
       "2958241           240 2019-03-08 18:16:34.085 2019-03-08 18:20:34.661   \n",
       "35498             210 2017-12-15 08:53:37.164 2017-12-15 08:57:08.063   \n",
       "598005            176 2018-01-08 12:04:05.871 2018-01-08 12:07:02.318   \n",
       "2927327           541 2019-03-13 06:31:45.887 2019-03-13 06:40:47.652   \n",
       "2557906           599 2019-01-04 13:57:39.747 2019-01-04 14:07:38.961   \n",
       "2517220           134 2019-01-11 20:52:53.353 2019-01-11 20:55:07.493   \n",
       "3214916           216 2019-04-04 19:21:26.523 2019-04-04 19:25:03.399   \n",
       "846584            420 2018-04-27 18:41:41.499 2018-04-27 18:48:42.332   \n",
       "781984            576 2018-03-15 18:28:08.705 2018-03-15 18:37:45.338   \n",
       "\n",
       "        start_station_id                              start_station_name  \\\n",
       "2359006              257   San Francisco City Hall (Polk St at Grove St)   \n",
       "1865800              631                     El Embarcadero at Grand Ave   \n",
       "111143               364                        Julian St at The Alameda   \n",
       "2908502              717                            5th St at Brannan St   \n",
       "1173968              550  San Francisco Caltrain (Townsend St at 4th St)   \n",
       "1990610             1805                       San Fernando St at 4th St   \n",
       "2958241              240                       Lake Merritt BART Station   \n",
       "35498                210                         Grand Ave at Perkins St   \n",
       "598005               176                         Steuart St at Market St   \n",
       "2927327              541                            Folsom St at 15th St   \n",
       "2557906              599                           Howard St at Beale St   \n",
       "2517220              134                        19th Street BART Station   \n",
       "3214916              216                             2nd St at Julian St   \n",
       "846584               420    Powell St BART Station (Market St at 5th St)   \n",
       "781984               576  San Francisco Caltrain (Townsend St at 4th St)   \n",
       "\n",
       "         start_station_latitude  start_station_longitude end_station_id  \\\n",
       "2359006               37.778650              -122.418230            257   \n",
       "1865800               37.808848              -122.249680            631   \n",
       "111143                37.332233              -121.912517            364   \n",
       "2908502               37.776754              -122.399018            717   \n",
       "1173968               37.776598              -122.395282            550   \n",
       "1990610               37.335885              -121.885660           1805   \n",
       "2958241               37.797320              -122.265320            240   \n",
       "35498                 37.808894              -122.256460            210   \n",
       "598005                37.794130              -122.394430            176   \n",
       "2927327               37.767037              -122.415443            541   \n",
       "2557906               37.789756              -122.394643            599   \n",
       "2517220               37.809013              -122.268247            134   \n",
       "3214916               37.341132              -121.892844            216   \n",
       "846584                37.783899              -122.408445            420   \n",
       "781984                37.776598              -122.395282            576   \n",
       "\n",
       "                                          end_station_name  \\\n",
       "2359006       Powell St BART Station (Market St at 5th St)   \n",
       "1865800                             Lakeside Dr at 14th St   \n",
       "111143                      Santa Clara St at Almaden Blvd   \n",
       "2908502       Powell St BART Station (Market St at 5th St)   \n",
       "1173968       Powell St BART Station (Market St at 5th St)   \n",
       "1990610                              5th St at Virginia St   \n",
       "2958241                               Webster St at 2nd St   \n",
       "35498                                            Snow Park   \n",
       "598005                               Spear St at Folsom St   \n",
       "2927327  San Francisco Caltrain Station 2  (Townsend St...   \n",
       "2557906                           China Basin St at 3rd St   \n",
       "2517220                            Grand Ave at Webster St   \n",
       "3214916                         Fountain Alley at S 2nd St   \n",
       "846584                                 Folsom St at 3rd St   \n",
       "781984                       The Embarcadero at Vallejo St   \n",
       "\n",
       "         end_station_latitude  ...  start_time_weekday start_time_hour  \\\n",
       "2359006             37.783899  ...                 Thu              12   \n",
       "1865800             37.801319  ...                 Mon              12   \n",
       "111143              37.333988  ...                 Tue              23   \n",
       "2908502             37.783899  ...                 Thu              18   \n",
       "1173968             37.783899  ...                 Tue              16   \n",
       "1990610             37.325998  ...                 Fri              18   \n",
       "2958241             37.795195  ...                 Fri              18   \n",
       "35498               37.807813  ...                 Fri               8   \n",
       "598005              37.789677  ...                 Mon              12   \n",
       "2927327             37.776639  ...                 Wed               6   \n",
       "2557906             37.772000  ...                 Fri              13   \n",
       "2517220             37.811377  ...                 Fri              20   \n",
       "3214916             37.336188  ...                 Thu              19   \n",
       "846584              37.783830  ...                 Fri              18   \n",
       "781984              37.799953  ...                 Thu              18   \n",
       "\n",
       "        end_time_month  end_time_day end_time_weekday end_time_hour  \\\n",
       "2359006       December             6              Thu            12   \n",
       "1865800      September            10              Mon            12   \n",
       "111143        November            21              Tue            23   \n",
       "2908502          March            14              Thu            18   \n",
       "1173968           June            26              Tue            16   \n",
       "1990610        October            19              Fri            19   \n",
       "2958241          March             8              Fri            18   \n",
       "35498         December            15              Fri             8   \n",
       "598005         January             8              Mon            12   \n",
       "2927327          March            13              Wed             6   \n",
       "2557906        January             4              Fri            14   \n",
       "2517220        January            11              Fri            20   \n",
       "3214916          April             4              Thu            19   \n",
       "846584           April            27              Fri            18   \n",
       "781984           March            15              Thu            18   \n",
       "\n",
       "         duration_minutes duration_hours  distance_km distance_miles  \n",
       "2359006                 4              0         1.04           0.65  \n",
       "1865800                10              0         1.41           0.88  \n",
       "111143                  6              0         1.57           0.98  \n",
       "2908502                11              0         1.15           0.71  \n",
       "1173968                 9              0         1.41           0.88  \n",
       "1990610                30              0         1.33           0.83  \n",
       "2958241                 4              0         0.80           0.49  \n",
       "35498                   3              0         0.72           0.44  \n",
       "598005                  2              0         0.61           0.38  \n",
       "2927327                 9              0         2.05           1.27  \n",
       "2557906                 9              0         2.02           1.25  \n",
       "2517220                 2              0         0.38           0.23  \n",
       "3214916                 3              0         0.63           0.39  \n",
       "846584                  7              0         0.84           0.52  \n",
       "781984                  9              0         2.61           1.62  \n",
       "\n",
       "[15 rows x 29 columns]"
      ]
     },
     "execution_count": 520,
     "metadata": {},
     "output_type": "execute_result"
    }
   ],
   "source": [
    "df_cleaned.sample(15)"
   ]
  },
  {
   "cell_type": "code",
   "execution_count": 521,
   "metadata": {},
   "outputs": [
    {
     "data": {
      "text/html": [
       "<div>\n",
       "<style scoped>\n",
       "    .dataframe tbody tr th:only-of-type {\n",
       "        vertical-align: middle;\n",
       "    }\n",
       "\n",
       "    .dataframe tbody tr th {\n",
       "        vertical-align: top;\n",
       "    }\n",
       "\n",
       "    .dataframe thead th {\n",
       "        text-align: right;\n",
       "    }\n",
       "</style>\n",
       "<table border=\"1\" class=\"dataframe\">\n",
       "  <thead>\n",
       "    <tr style=\"text-align: right;\">\n",
       "      <th></th>\n",
       "      <th>duration_sec</th>\n",
       "      <th>start_time</th>\n",
       "      <th>end_time</th>\n",
       "      <th>start_station_id</th>\n",
       "      <th>start_station_name</th>\n",
       "      <th>start_station_latitude</th>\n",
       "      <th>start_station_longitude</th>\n",
       "      <th>end_station_id</th>\n",
       "      <th>end_station_name</th>\n",
       "      <th>end_station_latitude</th>\n",
       "      <th>...</th>\n",
       "      <th>start_time_weekday</th>\n",
       "      <th>start_time_hour</th>\n",
       "      <th>end_time_month</th>\n",
       "      <th>end_time_day</th>\n",
       "      <th>end_time_weekday</th>\n",
       "      <th>end_time_hour</th>\n",
       "      <th>duration_minutes</th>\n",
       "      <th>duration_hours</th>\n",
       "      <th>distance_km</th>\n",
       "      <th>distance_miles</th>\n",
       "    </tr>\n",
       "  </thead>\n",
       "  <tbody>\n",
       "    <tr>\n",
       "      <th>6</th>\n",
       "      <td>4507</td>\n",
       "      <td>2017-12-31 23:49:28.422</td>\n",
       "      <td>2018-01-01 01:04:35.619</td>\n",
       "      <td>4507</td>\n",
       "      <td>Addison St at Fourth St</td>\n",
       "      <td>37.866249</td>\n",
       "      <td>-122.299371</td>\n",
       "      <td>4507</td>\n",
       "      <td>Addison St at Fourth St</td>\n",
       "      <td>37.866249</td>\n",
       "      <td>...</td>\n",
       "      <td>Sun</td>\n",
       "      <td>23</td>\n",
       "      <td>January</td>\n",
       "      <td>1</td>\n",
       "      <td>Mon</td>\n",
       "      <td>1</td>\n",
       "      <td>75</td>\n",
       "      <td>1</td>\n",
       "      <td>0.0</td>\n",
       "      <td>0.0</td>\n",
       "    </tr>\n",
       "    <tr>\n",
       "      <th>64</th>\n",
       "      <td>547</td>\n",
       "      <td>2017-12-31 22:52:35.849</td>\n",
       "      <td>2017-12-31 23:01:43.178</td>\n",
       "      <td>547</td>\n",
       "      <td>San Francisco Caltrain (Townsend St at 4th St)</td>\n",
       "      <td>37.776598</td>\n",
       "      <td>-122.395282</td>\n",
       "      <td>547</td>\n",
       "      <td>San Francisco Caltrain (Townsend St at 4th St)</td>\n",
       "      <td>37.776598</td>\n",
       "      <td>...</td>\n",
       "      <td>Sun</td>\n",
       "      <td>22</td>\n",
       "      <td>December</td>\n",
       "      <td>31</td>\n",
       "      <td>Sun</td>\n",
       "      <td>23</td>\n",
       "      <td>9</td>\n",
       "      <td>0</td>\n",
       "      <td>0.0</td>\n",
       "      <td>0.0</td>\n",
       "    </tr>\n",
       "    <tr>\n",
       "      <th>76</th>\n",
       "      <td>2646</td>\n",
       "      <td>2017-12-31 22:02:13.306</td>\n",
       "      <td>2017-12-31 22:46:19.330</td>\n",
       "      <td>2646</td>\n",
       "      <td>Frank H Ogawa Plaza</td>\n",
       "      <td>37.804562</td>\n",
       "      <td>-122.271738</td>\n",
       "      <td>2646</td>\n",
       "      <td>Frank H Ogawa Plaza</td>\n",
       "      <td>37.804562</td>\n",
       "      <td>...</td>\n",
       "      <td>Sun</td>\n",
       "      <td>22</td>\n",
       "      <td>December</td>\n",
       "      <td>31</td>\n",
       "      <td>Sun</td>\n",
       "      <td>22</td>\n",
       "      <td>44</td>\n",
       "      <td>0</td>\n",
       "      <td>0.0</td>\n",
       "      <td>0.0</td>\n",
       "    </tr>\n",
       "    <tr>\n",
       "      <th>86</th>\n",
       "      <td>1961</td>\n",
       "      <td>2017-12-31 21:59:37.081</td>\n",
       "      <td>2017-12-31 22:32:18.498</td>\n",
       "      <td>1961</td>\n",
       "      <td>Golden Gate Ave at Polk St</td>\n",
       "      <td>37.781270</td>\n",
       "      <td>-122.418740</td>\n",
       "      <td>1961</td>\n",
       "      <td>Golden Gate Ave at Polk St</td>\n",
       "      <td>37.781270</td>\n",
       "      <td>...</td>\n",
       "      <td>Sun</td>\n",
       "      <td>21</td>\n",
       "      <td>December</td>\n",
       "      <td>31</td>\n",
       "      <td>Sun</td>\n",
       "      <td>22</td>\n",
       "      <td>32</td>\n",
       "      <td>0</td>\n",
       "      <td>0.0</td>\n",
       "      <td>0.0</td>\n",
       "    </tr>\n",
       "    <tr>\n",
       "      <th>187</th>\n",
       "      <td>1609</td>\n",
       "      <td>2017-12-31 19:50:52.507</td>\n",
       "      <td>2017-12-31 20:17:41.997</td>\n",
       "      <td>1609</td>\n",
       "      <td>Central Ave at Fell St</td>\n",
       "      <td>37.773311</td>\n",
       "      <td>-122.444293</td>\n",
       "      <td>1609</td>\n",
       "      <td>Central Ave at Fell St</td>\n",
       "      <td>37.773311</td>\n",
       "      <td>...</td>\n",
       "      <td>Sun</td>\n",
       "      <td>19</td>\n",
       "      <td>December</td>\n",
       "      <td>31</td>\n",
       "      <td>Sun</td>\n",
       "      <td>20</td>\n",
       "      <td>26</td>\n",
       "      <td>0</td>\n",
       "      <td>0.0</td>\n",
       "      <td>0.0</td>\n",
       "    </tr>\n",
       "    <tr>\n",
       "      <th>...</th>\n",
       "      <td>...</td>\n",
       "      <td>...</td>\n",
       "      <td>...</td>\n",
       "      <td>...</td>\n",
       "      <td>...</td>\n",
       "      <td>...</td>\n",
       "      <td>...</td>\n",
       "      <td>...</td>\n",
       "      <td>...</td>\n",
       "      <td>...</td>\n",
       "      <td>...</td>\n",
       "      <td>...</td>\n",
       "      <td>...</td>\n",
       "      <td>...</td>\n",
       "      <td>...</td>\n",
       "      <td>...</td>\n",
       "      <td>...</td>\n",
       "      <td>...</td>\n",
       "      <td>...</td>\n",
       "      <td>...</td>\n",
       "      <td>...</td>\n",
       "    </tr>\n",
       "    <tr>\n",
       "      <th>3254272</th>\n",
       "      <td>1724</td>\n",
       "      <td>2019-04-01 01:18:15.907</td>\n",
       "      <td>2019-04-01 01:47:00.321</td>\n",
       "      <td>1724</td>\n",
       "      <td>Broadway at Kearny</td>\n",
       "      <td>37.798014</td>\n",
       "      <td>-122.405950</td>\n",
       "      <td>1724</td>\n",
       "      <td>Broadway at Kearny</td>\n",
       "      <td>37.798014</td>\n",
       "      <td>...</td>\n",
       "      <td>Mon</td>\n",
       "      <td>1</td>\n",
       "      <td>April</td>\n",
       "      <td>1</td>\n",
       "      <td>Mon</td>\n",
       "      <td>1</td>\n",
       "      <td>28</td>\n",
       "      <td>0</td>\n",
       "      <td>0.0</td>\n",
       "      <td>0.0</td>\n",
       "    </tr>\n",
       "    <tr>\n",
       "      <th>3254273</th>\n",
       "      <td>1754</td>\n",
       "      <td>2019-04-01 01:17:37.519</td>\n",
       "      <td>2019-04-01 01:46:51.760</td>\n",
       "      <td>1754</td>\n",
       "      <td>Broadway at Kearny</td>\n",
       "      <td>37.798014</td>\n",
       "      <td>-122.405950</td>\n",
       "      <td>1754</td>\n",
       "      <td>Broadway at Kearny</td>\n",
       "      <td>37.798014</td>\n",
       "      <td>...</td>\n",
       "      <td>Mon</td>\n",
       "      <td>1</td>\n",
       "      <td>April</td>\n",
       "      <td>1</td>\n",
       "      <td>Mon</td>\n",
       "      <td>1</td>\n",
       "      <td>29</td>\n",
       "      <td>0</td>\n",
       "      <td>0.0</td>\n",
       "      <td>0.0</td>\n",
       "    </tr>\n",
       "    <tr>\n",
       "      <th>3254284</th>\n",
       "      <td>290</td>\n",
       "      <td>2019-04-01 01:19:51.369</td>\n",
       "      <td>2019-04-01 01:24:42.198</td>\n",
       "      <td>290</td>\n",
       "      <td>Ryland Park</td>\n",
       "      <td>37.342725</td>\n",
       "      <td>-121.895617</td>\n",
       "      <td>290</td>\n",
       "      <td>Ryland Park</td>\n",
       "      <td>37.342725</td>\n",
       "      <td>...</td>\n",
       "      <td>Mon</td>\n",
       "      <td>1</td>\n",
       "      <td>April</td>\n",
       "      <td>1</td>\n",
       "      <td>Mon</td>\n",
       "      <td>1</td>\n",
       "      <td>4</td>\n",
       "      <td>0</td>\n",
       "      <td>0.0</td>\n",
       "      <td>0.0</td>\n",
       "    </tr>\n",
       "    <tr>\n",
       "      <th>3254304</th>\n",
       "      <td>235</td>\n",
       "      <td>2019-04-01 00:36:07.839</td>\n",
       "      <td>2019-04-01 00:40:03.141</td>\n",
       "      <td>235</td>\n",
       "      <td>Market St at 10th St</td>\n",
       "      <td>37.776619</td>\n",
       "      <td>-122.417385</td>\n",
       "      <td>235</td>\n",
       "      <td>Market St at 10th St</td>\n",
       "      <td>37.776619</td>\n",
       "      <td>...</td>\n",
       "      <td>Mon</td>\n",
       "      <td>0</td>\n",
       "      <td>April</td>\n",
       "      <td>1</td>\n",
       "      <td>Mon</td>\n",
       "      <td>0</td>\n",
       "      <td>3</td>\n",
       "      <td>0</td>\n",
       "      <td>0.0</td>\n",
       "      <td>0.0</td>\n",
       "    </tr>\n",
       "    <tr>\n",
       "      <th>3254317</th>\n",
       "      <td>869</td>\n",
       "      <td>2019-04-01 00:08:19.001</td>\n",
       "      <td>2019-04-01 00:22:48.864</td>\n",
       "      <td>869</td>\n",
       "      <td>Berry St at 4th St</td>\n",
       "      <td>37.775880</td>\n",
       "      <td>-122.393170</td>\n",
       "      <td>869</td>\n",
       "      <td>Berry St at 4th St</td>\n",
       "      <td>37.775880</td>\n",
       "      <td>...</td>\n",
       "      <td>Mon</td>\n",
       "      <td>0</td>\n",
       "      <td>April</td>\n",
       "      <td>1</td>\n",
       "      <td>Mon</td>\n",
       "      <td>0</td>\n",
       "      <td>14</td>\n",
       "      <td>0</td>\n",
       "      <td>0.0</td>\n",
       "      <td>0.0</td>\n",
       "    </tr>\n",
       "  </tbody>\n",
       "</table>\n",
       "<p>70407 rows × 29 columns</p>\n",
       "</div>"
      ],
      "text/plain": [
       "         duration_sec              start_time                end_time  \\\n",
       "6                4507 2017-12-31 23:49:28.422 2018-01-01 01:04:35.619   \n",
       "64                547 2017-12-31 22:52:35.849 2017-12-31 23:01:43.178   \n",
       "76               2646 2017-12-31 22:02:13.306 2017-12-31 22:46:19.330   \n",
       "86               1961 2017-12-31 21:59:37.081 2017-12-31 22:32:18.498   \n",
       "187              1609 2017-12-31 19:50:52.507 2017-12-31 20:17:41.997   \n",
       "...               ...                     ...                     ...   \n",
       "3254272          1724 2019-04-01 01:18:15.907 2019-04-01 01:47:00.321   \n",
       "3254273          1754 2019-04-01 01:17:37.519 2019-04-01 01:46:51.760   \n",
       "3254284           290 2019-04-01 01:19:51.369 2019-04-01 01:24:42.198   \n",
       "3254304           235 2019-04-01 00:36:07.839 2019-04-01 00:40:03.141   \n",
       "3254317           869 2019-04-01 00:08:19.001 2019-04-01 00:22:48.864   \n",
       "\n",
       "        start_station_id                              start_station_name  \\\n",
       "6                   4507                         Addison St at Fourth St   \n",
       "64                   547  San Francisco Caltrain (Townsend St at 4th St)   \n",
       "76                  2646                             Frank H Ogawa Plaza   \n",
       "86                  1961                      Golden Gate Ave at Polk St   \n",
       "187                 1609                          Central Ave at Fell St   \n",
       "...                  ...                                             ...   \n",
       "3254272             1724                              Broadway at Kearny   \n",
       "3254273             1754                              Broadway at Kearny   \n",
       "3254284              290                                     Ryland Park   \n",
       "3254304              235                            Market St at 10th St   \n",
       "3254317              869                              Berry St at 4th St   \n",
       "\n",
       "         start_station_latitude  start_station_longitude end_station_id  \\\n",
       "6                     37.866249              -122.299371           4507   \n",
       "64                    37.776598              -122.395282            547   \n",
       "76                    37.804562              -122.271738           2646   \n",
       "86                    37.781270              -122.418740           1961   \n",
       "187                   37.773311              -122.444293           1609   \n",
       "...                         ...                      ...            ...   \n",
       "3254272               37.798014              -122.405950           1724   \n",
       "3254273               37.798014              -122.405950           1754   \n",
       "3254284               37.342725              -121.895617            290   \n",
       "3254304               37.776619              -122.417385            235   \n",
       "3254317               37.775880              -122.393170            869   \n",
       "\n",
       "                                       end_station_name  end_station_latitude  \\\n",
       "6                               Addison St at Fourth St             37.866249   \n",
       "64       San Francisco Caltrain (Townsend St at 4th St)             37.776598   \n",
       "76                                  Frank H Ogawa Plaza             37.804562   \n",
       "86                           Golden Gate Ave at Polk St             37.781270   \n",
       "187                              Central Ave at Fell St             37.773311   \n",
       "...                                                 ...                   ...   \n",
       "3254272                              Broadway at Kearny             37.798014   \n",
       "3254273                              Broadway at Kearny             37.798014   \n",
       "3254284                                     Ryland Park             37.342725   \n",
       "3254304                            Market St at 10th St             37.776619   \n",
       "3254317                              Berry St at 4th St             37.775880   \n",
       "\n",
       "         ...  start_time_weekday start_time_hour end_time_month  end_time_day  \\\n",
       "6        ...                 Sun              23        January             1   \n",
       "64       ...                 Sun              22       December            31   \n",
       "76       ...                 Sun              22       December            31   \n",
       "86       ...                 Sun              21       December            31   \n",
       "187      ...                 Sun              19       December            31   \n",
       "...      ...                 ...             ...            ...           ...   \n",
       "3254272  ...                 Mon               1          April             1   \n",
       "3254273  ...                 Mon               1          April             1   \n",
       "3254284  ...                 Mon               1          April             1   \n",
       "3254304  ...                 Mon               0          April             1   \n",
       "3254317  ...                 Mon               0          April             1   \n",
       "\n",
       "        end_time_weekday end_time_hour  duration_minutes duration_hours  \\\n",
       "6                    Mon             1                75              1   \n",
       "64                   Sun            23                 9              0   \n",
       "76                   Sun            22                44              0   \n",
       "86                   Sun            22                32              0   \n",
       "187                  Sun            20                26              0   \n",
       "...                  ...           ...               ...            ...   \n",
       "3254272              Mon             1                28              0   \n",
       "3254273              Mon             1                29              0   \n",
       "3254284              Mon             1                 4              0   \n",
       "3254304              Mon             0                 3              0   \n",
       "3254317              Mon             0                14              0   \n",
       "\n",
       "         distance_km distance_miles  \n",
       "6                0.0            0.0  \n",
       "64               0.0            0.0  \n",
       "76               0.0            0.0  \n",
       "86               0.0            0.0  \n",
       "187              0.0            0.0  \n",
       "...              ...            ...  \n",
       "3254272          0.0            0.0  \n",
       "3254273          0.0            0.0  \n",
       "3254284          0.0            0.0  \n",
       "3254304          0.0            0.0  \n",
       "3254317          0.0            0.0  \n",
       "\n",
       "[70407 rows x 29 columns]"
      ]
     },
     "execution_count": 521,
     "metadata": {},
     "output_type": "execute_result"
    }
   ],
   "source": [
    "df_cleaned.loc[df_cleaned['start_station_name'] == df_cleaned['end_station_name']]"
   ]
  },
  {
   "cell_type": "code",
   "execution_count": 522,
   "metadata": {},
   "outputs": [
    {
     "name": "stdout",
     "output_type": "stream",
     "text": [
      "There are 70407 or 2.333153835320238% of the entries that begin and end at the same location.\n"
     ]
    }
   ],
   "source": [
    "same_start_end = df_cleaned.loc[df_cleaned['start_station_name'] == df_cleaned['end_station_name']]\n",
    "\n",
    "print('There are ' + str(same_start_end.shape[0]) + ' or ' + str((same_start_end.shape[0] / df_cleaned.shape[0]) * 100) + \n",
    "      '% of the entries that begin and end at the same location.')\n"
   ]
  },
  {
   "cell_type": "code",
   "execution_count": 523,
   "metadata": {},
   "outputs": [],
   "source": [
    "df_cleaned.to_csv('fordgobike_clean.csv', index = False)"
   ]
  },
  {
   "cell_type": "code",
   "execution_count": 525,
   "metadata": {},
   "outputs": [
    {
     "name": "stdout",
     "output_type": "stream",
     "text": [
      "<class 'pandas.core.frame.DataFrame'>\n",
      "Int64Index: 3017675 entries, 0 to 3254324\n",
      "Data columns (total 29 columns):\n",
      " #   Column                   Dtype         \n",
      "---  ------                   -----         \n",
      " 0   duration_sec             int64         \n",
      " 1   start_time               datetime64[ns]\n",
      " 2   end_time                 datetime64[ns]\n",
      " 3   start_station_id         object        \n",
      " 4   start_station_name       object        \n",
      " 5   start_station_latitude   float64       \n",
      " 6   start_station_longitude  float64       \n",
      " 7   end_station_id           object        \n",
      " 8   end_station_name         object        \n",
      " 9   end_station_latitude     float64       \n",
      " 10  end_station_longitude    float64       \n",
      " 11  bike_id                  object        \n",
      " 12  user_type                object        \n",
      " 13  member_birth_year        int64         \n",
      " 14  member_gender            object        \n",
      " 15  bike_share_for_all_trip  object        \n",
      " 16  member_age               int64         \n",
      " 17  start_time_month         object        \n",
      " 18  start_time_day           int32         \n",
      " 19  start_time_weekday       object        \n",
      " 20  start_time_hour          int64         \n",
      " 21  end_time_month           object        \n",
      " 22  end_time_day             int32         \n",
      " 23  end_time_weekday         object        \n",
      " 24  end_time_hour            int64         \n",
      " 25  duration_minutes         int32         \n",
      " 26  duration_hours           int32         \n",
      " 27  distance_km              float64       \n",
      " 28  distance_miles           float64       \n",
      "dtypes: datetime64[ns](2), float64(6), int32(4), int64(5), object(12)\n",
      "memory usage: 644.6+ MB\n"
     ]
    }
   ],
   "source": [
    "df_cleaned.info()"
   ]
  },
  {
   "cell_type": "markdown",
   "metadata": {},
   "source": [
    "Saved cleaned data to 'fordgobike_clean.csv'"
   ]
  },
  {
   "cell_type": "markdown",
   "metadata": {},
   "source": [
    "### What is the structure of your dataset?\n",
    "\n",
    "> The dataset includes data from 2017 thru April 2019. Originally there were 3,254,325 bike rides in the San Francisco Bay Area. \n",
    ">\n",
    "> Data included:\n",
    "- start and end times, including date \n",
    "- station information, such as name, and location in the form of lat and log\n",
    "- some anonymized member info, such as birthdate and gender\n",
    ">\n",
    "> I added additional fields to provide further insights into the dataset\n",
    ">\n",
    "> Fields added:\n",
    "- 'member_age', 'start_time_month', 'start_time_day', 'start_time_weekday', 'start_time_hour', 'end_time_month', 'end_time_day', 'end_time_weekday', 'end_time_hour', 'duration_minutes', 'duration_hours', 'distance_km', 'distance_miles'\n",
    "\n",
    "\n",
    "### What is/are the main feature(s) of interest in your dataset?\n",
    "\n",
    "> I am interested if age affects ride duration and distance traveled.\n",
    ">\n",
    "> I also want to explore which months and/or days and what time of day have the highest use rates.\n",
    "\n",
    "### What features in the dataset do you think will help support your investigation into your feature(s) of interest?\n",
    "\n",
    "> I expect the columns dealing with gender, user type, ride duration, distance traveled, and all date time information will assist me in visualizing the data and determining if there is a correlation between any of these values. "
   ]
  },
  {
   "cell_type": "code",
   "execution_count": 2,
   "metadata": {},
   "outputs": [
    {
     "name": "stderr",
     "output_type": "stream",
     "text": [
      "C:\\Users\\bm9874\\Anaconda3\\lib\\site-packages\\IPython\\core\\interactiveshell.py:3063: DtypeWarning: Columns (15) have mixed types.Specify dtype option on import or set low_memory=False.\n",
      "  interactivity=interactivity, compiler=compiler, result=result)\n"
     ]
    }
   ],
   "source": [
    "df_cleaned = pd.read_csv('fordgobike_clean.csv')"
   ]
  },
  {
   "cell_type": "markdown",
   "metadata": {},
   "source": [
    "Read in cleaned data"
   ]
  },
  {
   "cell_type": "code",
   "execution_count": 3,
   "metadata": {},
   "outputs": [],
   "source": [
    "no_color = sb.color_palette()[0]\n",
    "base_color = sb.color_palette()[0]"
   ]
  },
  {
   "cell_type": "markdown",
   "metadata": {},
   "source": [
    "Set no_color as a color palette for the graphs below"
   ]
  },
  {
   "cell_type": "markdown",
   "metadata": {},
   "source": [
    "## Univariate Exploration\n",
    "\n",
    "> In this section, investigate distributions of individual variables. If\n",
    "you see unusual points or outliers, take a deeper look to clean things up\n",
    "and prepare yourself to look at relationships between variables."
   ]
  },
  {
   "cell_type": "code",
   "execution_count": 4,
   "metadata": {},
   "outputs": [
    {
     "data": {
      "image/png": "[encoded data removed]",
      "text/plain": [
       "<Figure size 612x360 with 1 Axes>"
      ]
     },
     "metadata": {
      "needs_background": "light"
     },
     "output_type": "display_data"
    }
   ],
   "source": [
    "g = sb.catplot(data = df_cleaned, x = 'start_time_month', kind = 'count', color = no_color, aspect = 1.7);\n",
    "\n",
    "g.set_axis_labels('Month', 'Number of Bike Trips'),\n",
    "\n",
    "g.fig.suptitle('GoBike Usage by Month', y = 1.05, fontsize = 16, fontweight = 'bold');\n",
    "\n",
    "g.set_xticklabels(rotation=45);"
   ]
  },
  {
   "cell_type": "markdown",
   "metadata": {},
   "source": [
    "### Bike rentals are higher March, April, August, September and October. "
   ]
  },
  {
   "cell_type": "code",
   "execution_count": 5,
   "metadata": {},
   "outputs": [
    {
     "data": {
      "image/png": "[encoded data removed]",
      "text/plain": [
       "<Figure size 360x360 with 1 Axes>"
      ]
     },
     "metadata": {
      "needs_background": "light"
     },
     "output_type": "display_data"
    }
   ],
   "source": [
    "weekday = ['Mon', 'Tue', 'Wed', 'Thu', 'Fri', 'Sat', 'Sun']\n",
    "\n",
    "g = sb.catplot(data=df_cleaned, x='start_time_weekday', kind='count', color = no_color, order = weekday)\n",
    "\n",
    "g.set_axis_labels('Weekdays', 'Number of Bike Trips')\n",
    "\n",
    "g.fig.suptitle('GoBike Usage by Weekday', y=1.05, fontsize=16, fontweight='bold');\n",
    "\n",
    "g.set_xticklabels(rotation=45);"
   ]
  },
  {
   "cell_type": "markdown",
   "metadata": {},
   "source": [
    "### Bike rentals are higher Monday thru Friday"
   ]
  },
  {
   "cell_type": "code",
   "execution_count": 6,
   "metadata": {},
   "outputs": [
    {
     "data": {
      "image/png": "[encoded data removed]",
      "text/plain": [
       "<Figure size 612x360 with 1 Axes>"
      ]
     },
     "metadata": {
      "needs_background": "light"
     },
     "output_type": "display_data"
    }
   ],
   "source": [
    "g = sb.catplot(data = df_cleaned, x='start_time_hour', kind='count', color = no_color, aspect = 1.7)\n",
    "\n",
    "g.set_axis_labels('Hours', 'Number of Bike Rides')\n",
    "\n",
    "g.fig.suptitle('GoBike System Usage by Hour', y=1.05, fontsize=16, fontweight='bold');"
   ]
  },
  {
   "cell_type": "markdown",
   "metadata": {},
   "source": [
    "### Bike rentals are higher in the morning (7 AM - 9 AM) and in the afternoon (4 PM - 6 PM). These are traditionaly \"rush hour\" times."
   ]
  },
  {
   "cell_type": "code",
   "execution_count": 7,
   "metadata": {},
   "outputs": [
    {
     "data": {
      "image/png": "[encoded data removed]",
      "text/plain": [
       "<Figure size 432x288 with 1 Axes>"
      ]
     },
     "metadata": {
      "needs_background": "light"
     },
     "output_type": "display_data"
    }
   ],
   "source": [
    "bin_edges = np.arange(0, 45, 1)\n",
    "ticks = [0, 5, 10, 15, 20, 25, 30,  35, 40, 45]\n",
    "labels = ['{}'.format(val) for val in ticks]\n",
    "\n",
    "plt.hist(data = df_cleaned, x = 'duration_minutes', bins = bin_edges, rwidth = 0.6);\n",
    "\n",
    "plt.title(\"GoBike System Trip Duration in Minutes\", y=1.05, fontsize=16, fontweight='bold')\n",
    "plt.xlabel('Duration (Min)')\n",
    "plt.xticks(ticks, labels)\n",
    "plt.ylabel('Number of Bike Trips');"
   ]
  },
  {
   "cell_type": "markdown",
   "metadata": {},
   "source": [
    "### The majority of bike rental duration seems to be between 4 - 15 minutes in this dataset."
   ]
  },
  {
   "cell_type": "code",
   "execution_count": 21,
   "metadata": {},
   "outputs": [
    {
     "data": {
      "image/png": "[encoded data removed]",
      "text/plain": [
       "<Figure size 432x288 with 1 Axes>"
      ]
     },
     "metadata": {
      "needs_background": "light"
     },
     "output_type": "display_data"
    }
   ],
   "source": [
    "bin_edges = np.arange(0, 5, 1)\n",
    "ticks = [0, 1, 2, 3, 3, 5]\n",
    "labels = ['{}'.format(val) for val in ticks]\n",
    "\n",
    "plt.hist(data = df_cleaned, x = 'duration_hours', bins = bin_edges, rwidth = 0.6);\n",
    "\n",
    "plt.title(\"GoBike System Trip Duration in Hours\", y=1.05, fontsize=16, fontweight='bold')\n",
    "plt.xlabel('Duration (Hour)')\n",
    "plt.xticks(ticks, labels)\n",
    "plt.ylabel('Number of Bike Trips');"
   ]
  },
  {
   "cell_type": "code",
   "execution_count": 22,
   "metadata": {},
   "outputs": [
    {
     "name": "stdout",
     "output_type": "stream",
     "text": [
      "Rides less than or equal to 1 hour: 3003854 or 99.54% \n",
      "Rides greater than 1 hour: 13821 or 0.46%\n"
     ]
    }
   ],
   "source": [
    "hour_or_less = df_cleaned.query('duration_hours <= 1')['bike_id'].count()\n",
    "great_1_hour = df_cleaned.query('duration_hours > 1')['bike_id'].count()\n",
    "\n",
    "prcnt_hour_or_less = round((hour_or_less / df_cleaned.shape[0]) * 100, 2)\n",
    "prcnt_great_1_hour = round((great_1_hour / df_cleaned.shape[0]) * 100, 2)\n",
    "\n",
    "print('Rides less than or equal to 1 hour: ' + str(hour_or_less) + ' or ' + str(prcnt_hour_or_less) + '%', \n",
    "     '\\nRides greater than 1 hour: ' + str(great_1_hour) + ' or ' + str(prcnt_great_1_hour) + '%',\n",
    "     )"
   ]
  },
  {
   "cell_type": "markdown",
   "metadata": {},
   "source": [
    "### Less that 1% of rides exceed 1 hour\n",
    "\n",
    "> Rides less than or equal to 1 hour: 3003854 or 99.54% \n",
    ">\n",
    "> Rides greater than 1 hour: 13821 or 0.46%"
   ]
  },
  {
   "cell_type": "code",
   "execution_count": 23,
   "metadata": {},
   "outputs": [
    {
     "data": {
      "image/png": "[encoded data removed]",
      "text/plain": [
       "<Figure size 432x288 with 1 Axes>"
      ]
     },
     "metadata": {
      "needs_background": "light"
     },
     "output_type": "display_data"
    }
   ],
   "source": [
    "bin_edges = np.arange(0, 5, 1)\n",
    "ticks = [0, 1, 2, 3, 3, 5, 6, 7, 8, 9, 10]\n",
    "labels = ['{}'.format(val) for val in ticks]\n",
    "\n",
    "plt.hist(data = df_cleaned, x = 'distance_miles', bins = bin_edges, rwidth = 0.6);\n",
    "\n",
    "plt.title(\"GoBike System Trip Distance in Miles\", y=1.05, fontsize=16, fontweight='bold')\n",
    "plt.xlabel('Distance (Miles)')\n",
    "plt.ylabel('Number of Bike Trips');"
   ]
  },
  {
   "cell_type": "markdown",
   "metadata": {},
   "source": [
    "### The majority of bike rentals are between 1 and 2 miles."
   ]
  },
  {
   "cell_type": "code",
   "execution_count": 24,
   "metadata": {},
   "outputs": [
    {
     "data": {
      "image/png": "[encoded data removed]",
      "text/plain": [
       "<Figure size 432x288 with 1 Axes>"
      ]
     },
     "metadata": {
      "needs_background": "light"
     },
     "output_type": "display_data"
    }
   ],
   "source": [
    "bin_edges = np.arange(0, 65, 5)\n",
    "\n",
    "plt.hist(data = df_cleaned, x = 'member_age', bins = bin_edges);\n",
    "\n",
    "plt.title(\"GoBike System User by Age\", y=1.05, fontsize=16, fontweight='bold')\n",
    "plt.xlabel('Age of Members (Years)')\n",
    "plt.ylabel('Number of Bike Trips');"
   ]
  },
  {
   "cell_type": "markdown",
   "metadata": {},
   "source": [
    "### Most bikes are rented by people between 25 and 40 years old. "
   ]
  },
  {
   "cell_type": "code",
   "execution_count": 26,
   "metadata": {},
   "outputs": [
    {
     "data": {
      "text/plain": [
       "<matplotlib.legend.Legend at 0x21e820a0e48>"
      ]
     },
     "execution_count": 26,
     "metadata": {},
     "output_type": "execute_result"
    },
    {
     "data": {
      "image/png": "[encoded data removed]",
      "text/plain": [
       "<Figure size 720x576 with 1 Axes>"
      ]
     },
     "metadata": {},
     "output_type": "display_data"
    }
   ],
   "source": [
    "gender = df_cleaned.member_gender.value_counts()\n",
    "\n",
    "plt.figure(figsize = [10, 8])\n",
    "\n",
    "plt.pie(gender, labels = gender.index, startangle = 90, autopct= '%1.1f%%', counterclock = False, textprops={'color':'white'});\n",
    "\n",
    "plt.title('GoBike System User by Gender', y=1.05, fontsize=16, fontweight='bold', color = 'white');\n",
    "plt.legend(fancybox=True, framealpha=1, shadow=True, borderpad=1)"
   ]
  },
  {
   "cell_type": "markdown",
   "metadata": {},
   "source": [
    "### Males consist of nearly 75% of the bike rental population"
   ]
  },
  {
   "cell_type": "markdown",
   "metadata": {},
   "source": [
    "### Discuss the distribution(s) of your variable(s) of interest. Were there any unusual points? Did you need to perform any transformations?\n",
    "\n",
    "> The distribution of the data suggests that bike rentals are more popular during the week during \"rush hours\" than I would have expected. The months with higher rental numbers also suggests that people are more likely to rent a bike during months with more moderate temperatures than colder months (December, January, February) or warmer months (May, June, July).I was also surprised to see the short durations in both time and distance. \n",
    "\n",
    "### Of the features you investigated, were there any unusual distributions? Did you perform any operations on the data to tidy, adjust, or change the form of the data? If so, why did you do this?\n",
    "\n",
    "> I found that there were so few rides that lasted longer than 1 hour that there was no sense in trying to plot that data, less than 1% of rides in the dataset lasted longer than 1 hour."
   ]
  },
  {
   "cell_type": "markdown",
   "metadata": {},
   "source": [
    "## Bivariate Exploration\n",
    "\n",
    "> In this section, investigate relationships between pairs of variables in your\n",
    "data. Make sure the variables that you cover here have been introduced in some\n",
    "fashion in the previous section (univariate exploration)."
   ]
  },
  {
   "cell_type": "code",
   "execution_count": 27,
   "metadata": {},
   "outputs": [],
   "source": [
    "df_cleaned = pd.read_csv('fordgobike_clean.csv')\n",
    "no_color = sb.color_palette()[0]\n",
    "base_color = sb.color_palette()[0]"
   ]
  },
  {
   "cell_type": "code",
   "execution_count": 28,
   "metadata": {},
   "outputs": [
    {
     "name": "stdout",
     "output_type": "stream",
     "text": [
      "<class 'pandas.core.frame.DataFrame'>\n",
      "RangeIndex: 3017675 entries, 0 to 3017674\n",
      "Data columns (total 29 columns):\n",
      " #   Column                   Dtype  \n",
      "---  ------                   -----  \n",
      " 0   duration_sec             int64  \n",
      " 1   start_time               object \n",
      " 2   end_time                 object \n",
      " 3   start_station_id         int64  \n",
      " 4   start_station_name       object \n",
      " 5   start_station_latitude   float64\n",
      " 6   start_station_longitude  float64\n",
      " 7   end_station_id           int64  \n",
      " 8   end_station_name         object \n",
      " 9   end_station_latitude     float64\n",
      " 10  end_station_longitude    float64\n",
      " 11  bike_id                  int64  \n",
      " 12  user_type                object \n",
      " 13  member_birth_year        int64  \n",
      " 14  member_gender            object \n",
      " 15  bike_share_for_all_trip  object \n",
      " 16  member_age               int64  \n",
      " 17  start_time_month         object \n",
      " 18  start_time_day           int64  \n",
      " 19  start_time_weekday       object \n",
      " 20  start_time_hour          int64  \n",
      " 21  end_time_month           object \n",
      " 22  end_time_day             int64  \n",
      " 23  end_time_weekday         object \n",
      " 24  end_time_hour            int64  \n",
      " 25  duration_minutes         int64  \n",
      " 26  duration_hours           int64  \n",
      " 27  distance_km              float64\n",
      " 28  distance_miles           float64\n",
      "dtypes: float64(6), int64(12), object(11)\n",
      "memory usage: 667.7+ MB\n"
     ]
    }
   ],
   "source": [
    "df_cleaned.info()"
   ]
  },
  {
   "cell_type": "code",
   "execution_count": 29,
   "metadata": {},
   "outputs": [],
   "source": [
    "customer = df_cleaned.query('user_type == \"Customer\"')['bike_id'].count()\n",
    "subscriber = df_cleaned.query('user_type == \"Subscriber\"')['bike_id'].count()\n",
    "\n",
    "customer_proportion = customer / df_cleaned['bike_id'].count()\n",
    "subscriber_proportion = subscriber / df_cleaned['bike_id'].count()"
   ]
  },
  {
   "cell_type": "code",
   "execution_count": 30,
   "metadata": {},
   "outputs": [
    {
     "data": {
      "image/png": "[encoded data removed]",
      "text/plain": [
       "<Figure size 720x360 with 2 Axes>"
      ]
     },
     "metadata": {
      "needs_background": "light"
     },
     "output_type": "display_data"
    }
   ],
   "source": [
    "plt.figure(figsize = [10, 5])\n",
    "\n",
    "# code for the bar chart\n",
    "plt.subplot(1, 2, 1)\n",
    "\n",
    "g = sb.countplot(data=df_cleaned, x=\"user_type\", order=df_cleaned.user_type.value_counts().index)\n",
    "g.set_xlabel('User Type')\n",
    "g.set_ylabel('#Bike Trips')\n",
    "\n",
    "# code for the pie chart\n",
    "plt.subplot(1, 2, 2)\n",
    "\n",
    "labels = ['Customer', 'Subscriber']\n",
    "sizes = [customer_proportion, subscriber_proportion]\n",
    "colors = ['darkorange', 'steelblue']\n",
    "explode = (0, 0.1)\n",
    "\n",
    "plt.pie(sizes, explode=explode, labels=labels, colors = colors,\n",
    "        autopct='%1.1f%%', shadow=True, startangle=90)\n",
    "plt.axis('equal')\n",
    "\n",
    "plt.suptitle('User type split for GoBike sharing system', y=1.03, fontsize=14, fontweight='semibold');"
   ]
  },
  {
   "cell_type": "markdown",
   "metadata": {},
   "source": [
    "### Subscribers make up 88.7% of the total bike rentals where as customers only equal 11.3%"
   ]
  },
  {
   "cell_type": "code",
   "execution_count": 31,
   "metadata": {},
   "outputs": [
    {
     "data": {
      "text/plain": [
       "Male      2237394\n",
       "Female     731098\n",
       "Other       49183\n",
       "Name: member_gender, dtype: int64"
      ]
     },
     "execution_count": 31,
     "metadata": {},
     "output_type": "execute_result"
    }
   ],
   "source": [
    "df_cleaned.member_gender.value_counts()"
   ]
  },
  {
   "cell_type": "code",
   "execution_count": 32,
   "metadata": {},
   "outputs": [],
   "source": [
    "# calculating % split for the user type\n",
    "male = df_cleaned.query('member_gender == \"Male\"')['bike_id'].count()\n",
    "female = df_cleaned.query('member_gender == \"Female\"')['bike_id'].count()\n",
    "other = df_cleaned.query('member_gender == \"Other\"')['bike_id'].count()\n",
    "\n",
    "male_proportion = male / df_cleaned['bike_id'].count()\n",
    "female_proportion = female / df_cleaned['bike_id'].count()\n",
    "other_proportion = other / df_cleaned['bike_id'].count()"
   ]
  },
  {
   "cell_type": "code",
   "execution_count": 33,
   "metadata": {},
   "outputs": [
    {
     "data": {
      "image/png": "[encoded data removed]",
      "text/plain": [
       "<Figure size 720x360 with 2 Axes>"
      ]
     },
     "metadata": {
      "needs_background": "light"
     },
     "output_type": "display_data"
    }
   ],
   "source": [
    "plt.figure(figsize = [10, 5])\n",
    "\n",
    "# code for the bar chart\n",
    "plt.subplot(1, 2, 1)\n",
    "\n",
    "g = sb.countplot(data=df_cleaned, x=\"member_gender\", order=df_cleaned.member_gender.value_counts().index)\n",
    "g.set_xlabel('Gender')\n",
    "g.set_ylabel('#Bike Trips')\n",
    "\n",
    "# code for the pie chart\n",
    "plt.subplot(1, 2, 2)\n",
    "\n",
    "labels = ['Male', 'Female', 'Other']\n",
    "sizes = [male_proportion, female_proportion, other_proportion]\n",
    "colors = ['darkorange', 'steelblue', 'lime']\n",
    "explode = (0, 0, 0)\n",
    "\n",
    "plt.pie(sizes, explode=explode, labels=labels, colors = colors,\n",
    "        autopct='%1.1f%%', shadow=True, startangle=90)\n",
    "plt.axis('equal')\n",
    "\n",
    "plt.suptitle('User type split for GoBike sharing system', y=1.03, fontsize=14, fontweight='semibold');\n"
   ]
  },
  {
   "cell_type": "markdown",
   "metadata": {},
   "source": [
    "### Rentals % by gender: \n",
    "> - Males: 74.1%\n",
    "- Females: 24.2%\n",
    "- Other: 1.6%"
   ]
  },
  {
   "cell_type": "code",
   "execution_count": 34,
   "metadata": {},
   "outputs": [
    {
     "data": {
      "image/png": "[encoded data removed]",
      "text/plain": [
       "<Figure size 720x360 with 2 Axes>"
      ]
     },
     "metadata": {
      "needs_background": "light"
     },
     "output_type": "display_data"
    }
   ],
   "source": [
    "g = sb.catplot(data=df_cleaned, x='start_time_month', col=\"user_type\", kind='count', sharey = True, color = no_color);\n",
    "\n",
    "g.set_axis_labels(\"Month\", \"Number of Bike Trips\");\n",
    "g.set_titles(\"{col_name}\");\n",
    "\n",
    "g.fig.suptitle('GoBike System - Customers vs. Subscribers', y=1.05, fontsize=16, fontweight='bold');\n",
    "g.set_xticklabels(rotation=45);"
   ]
  },
  {
   "cell_type": "markdown",
   "metadata": {},
   "source": [
    "### Rental trends are proportional between subscribers and customers."
   ]
  },
  {
   "cell_type": "code",
   "execution_count": 35,
   "metadata": {},
   "outputs": [
    {
     "data": {
      "image/png": "[encoded data removed]",
      "text/plain": [
       "<Figure size 810.375x360 with 2 Axes>"
      ]
     },
     "metadata": {
      "needs_background": "light"
     },
     "output_type": "display_data"
    }
   ],
   "source": [
    "g = sb.catplot(data=df_cleaned, x='start_time_month', col=\"user_type\", hue=\"member_gender\", kind='count', sharey = False)\n",
    "g.set_axis_labels(\"Month\", \"#Bike Trips\")\n",
    "g._legend.set_title('Gender')\n",
    "g.set_titles(\"{col_name}\")\n",
    "g.fig.suptitle('Monthly usage of GoBike per user type and gender', y=1.03, fontsize=14, fontweight='semibold');\n",
    "g.set_xticklabels(rotation=45);"
   ]
  },
  {
   "cell_type": "markdown",
   "metadata": {},
   "source": [
    "### The proportions of user types and gender type is consistent."
   ]
  },
  {
   "cell_type": "code",
   "execution_count": 36,
   "metadata": {},
   "outputs": [
    {
     "data": {
      "image/png": "[encoded data removed]",
      "text/plain": [
       "<Figure size 864x360 with 1 Axes>"
      ]
     },
     "metadata": {
      "needs_background": "light"
     },
     "output_type": "display_data"
    }
   ],
   "source": [
    "plt.figure(figsize=(12, 5))\n",
    "\n",
    "df_cleaned_user_week = df_cleaned.groupby(['start_time_weekday', 'user_type']).size().reset_index()\n",
    "weekday = ['Mon', 'Tue', 'Wed', 'Thu', 'Fri', 'Sat', 'Sun']\n",
    "\n",
    "ax = sb.pointplot(data=df_cleaned_user_week, x='start_time_weekday', y=0, hue = 'user_type', scale=.7, order = weekday);\n",
    "\n",
    "plt.title('GoBike System Trends by User Type', y=1.05, fontsize=16, fontweight='bold')\n",
    "plt.xlabel('Weekdays')\n",
    "plt.ylabel('Number of Bike Trips');\n",
    "plt.grid()"
   ]
  },
  {
   "cell_type": "markdown",
   "metadata": {},
   "source": [
    "### Subscribers rent more during the week than customers. Customer rentals are increase from Friday thru Sunday."
   ]
  },
  {
   "cell_type": "code",
   "execution_count": 37,
   "metadata": {},
   "outputs": [
    {
     "data": {
      "image/png": "[encoded data removed]",
      "text/plain": [
       "<Figure size 720x360 with 2 Axes>"
      ]
     },
     "metadata": {
      "needs_background": "light"
     },
     "output_type": "display_data"
    }
   ],
   "source": [
    "data = df_cleaned.query('duration_minutes < 60')\n",
    "g = sb.catplot(data=data, y='duration_minutes', col=\"user_type\", kind='box',\n",
    "            color = base_color)\n",
    "g.set_titles(col_template = '{col_name}')\n",
    "g.set_axis_labels(\"\", \"Trip duration (min)\")\n",
    "g.fig.suptitle('Trip duration (sec) boxplot per user type', y=1.03, fontsize=14, fontweight='semibold');"
   ]
  },
  {
   "cell_type": "markdown",
   "metadata": {},
   "source": [
    "### Customers trip duration is longer than subscribers"
   ]
  },
  {
   "cell_type": "code",
   "execution_count": 38,
   "metadata": {},
   "outputs": [
    {
     "data": {
      "image/png": "[encoded data removed]",
      "text/plain": [
       "<Figure size 864x576 with 1 Axes>"
      ]
     },
     "metadata": {
      "needs_background": "light"
     },
     "output_type": "display_data"
    }
   ],
   "source": [
    "plt = df_cleaned.groupby('user_type')['distance_miles'].mean().plot(kind='barh', figsize=(12,8));\n",
    "\n",
    "plt.set_title('Go Bike System Average Distance (Miles) by User Type', y=1.05, fontsize=16, fontweight='bold')\n",
    "plt.set_xlabel('User Type')\n",
    "plt.set_ylabel('Average Distance Traveled (Miles)');"
   ]
  },
  {
   "cell_type": "markdown",
   "metadata": {},
   "source": [
    "### Customers tend to travel farther than subscribers"
   ]
  },
  {
   "cell_type": "code",
   "execution_count": 39,
   "metadata": {},
   "outputs": [
    {
     "data": {
      "image/png": "[encoded data removed]",
      "text/plain": [
       "<Figure size 2160x360 with 3 Axes>"
      ]
     },
     "metadata": {
      "needs_background": "light"
     },
     "output_type": "display_data"
    }
   ],
   "source": [
    "g = sb.catplot(data = df_cleaned, x = 'member_age', col='member_gender', kind='count', sharey = False, color = no_color, height=5, aspect=2)\n",
    "\n",
    "g.set_axis_labels('Member Age', 'Number of Bike Trips')\n",
    "g.set_titles('{col_name}')\n",
    "\n",
    "g.fig.suptitle('GoBike System - Gender vs. Ages', y=1.05, fontsize=16, fontweight='bold');\n",
    "g.set_xticklabels(rotation=45);"
   ]
  },
  {
   "cell_type": "markdown",
   "metadata": {},
   "source": [
    "### There distribution of males and females vs age appears proportional with one another."
   ]
  },
  {
   "cell_type": "markdown",
   "metadata": {},
   "source": [
    "### Talk about some of the relationships you observed in this part of the investigation. How did the feature(s) of interest vary with other features in the dataset?\n",
    "\n",
    "> Customers ride at all different hours of the day throughout the week while subscribers show to ride more during the week during \"rush hour\" hours, morning and afternoon. \n",
    "\n",
    "### Did you observe any interesting relationships between the other features (not the main feature(s) of interest)?\n",
    "\n",
    "> Customers tend to travel farther than subscribers and their trip durations are longer."
   ]
  },
  {
   "cell_type": "markdown",
   "metadata": {},
   "source": [
    "## Multivariate Exploration\n",
    "\n",
    "> Create plots of three or more variables to investigate your data even\n",
    "further. Make sure that your investigations are justified, and follow from\n",
    "your work in the previous sections."
   ]
  },
  {
   "cell_type": "code",
   "execution_count": 41,
   "metadata": {},
   "outputs": [
    {
     "data": {
      "text/plain": [
       "Subscriber    2675554\n",
       "Customer       342121\n",
       "Name: user_type, dtype: int64"
      ]
     },
     "execution_count": 41,
     "metadata": {},
     "output_type": "execute_result"
    }
   ],
   "source": [
    "df_cleaned.user_type.value_counts()"
   ]
  },
  {
   "cell_type": "code",
   "execution_count": 42,
   "metadata": {},
   "outputs": [
    {
     "data": {
      "text/plain": [
       "Male      2237394\n",
       "Female     731098\n",
       "Other       49183\n",
       "Name: member_gender, dtype: int64"
      ]
     },
     "execution_count": 42,
     "metadata": {},
     "output_type": "execute_result"
    }
   ],
   "source": [
    "df_cleaned.member_gender.value_counts()"
   ]
  },
  {
   "cell_type": "code",
   "execution_count": 44,
   "metadata": {},
   "outputs": [
    {
     "data": {
      "image/png": "[encoded data removed]",
      "text/plain": [
       "<Figure size 450.375x360 with 1 Axes>"
      ]
     },
     "metadata": {
      "needs_background": "light"
     },
     "output_type": "display_data"
    }
   ],
   "source": [
    "g = sb.catplot(data=df_cleaned, x='user_type', y=\"duration_minutes\", hue=\"member_gender\", kind=\"violin\")\n",
    "g.set(ylim=(-30, 50))\n",
    "g.set_axis_labels(\"User Type\", \"Trip duration (min)\")\n",
    "g._legend.set_title('Gender')\n",
    "g.fig.suptitle('Trip duration per user type and gender', y=1.03, fontsize=14, fontweight='semibold');"
   ]
  },
  {
   "cell_type": "markdown",
   "metadata": {},
   "source": [
    "### This took some time, at first my plot was kind of flat, I had to change teh Y limits in order to see a better representation of the data."
   ]
  },
  {
   "cell_type": "code",
   "execution_count": 45,
   "metadata": {},
   "outputs": [],
   "source": [
    "subscriber_male_mean = round(df_cleaned.query('member_gender == \"Male\" & user_type == \"Subscriber\"')['duration_minutes'].mean(), 2)\n",
    "customer_male_mean = round(df_cleaned.query('member_gender == \"Male\" & user_type == \"Customer\"')['duration_minutes'].mean(), 2)\n",
    "subscriber_female_mean = round(df_cleaned.query('member_gender == \"Female\" & user_type == \"Subscriber\"')['duration_minutes'].mean(), 2)\n",
    "customer_female_mean = round(df_cleaned.query('member_gender == \"Female\" & user_type == \"Customer\"')['duration_minutes'].mean(), 2)\n",
    "subscriber_other_mean = round(df_cleaned.query('member_gender == \"Other\" & user_type == \"Subscriber\"')['duration_minutes'].mean(), 2)\n",
    "customer_other_mean = round(df_cleaned.query('member_gender == \"Other\" & user_type == \"Customer\"')['duration_minutes'].mean(), 2)\n",
    "\n",
    "male_mean = round(df_cleaned.query('member_gender == \"Male\"')['duration_minutes'].mean(), 2)\n",
    "female_mean = round(df_cleaned.query('member_gender == \"Female\"')['duration_minutes'].mean(), 2)\n",
    "other_mean = round(df_cleaned.query('member_gender == \"Other\"')['duration_minutes'].mean(), 2)"
   ]
  },
  {
   "cell_type": "code",
   "execution_count": 46,
   "metadata": {},
   "outputs": [
    {
     "name": "stdout",
     "output_type": "stream",
     "text": [
      "Male avg dur: 11.7, Subscriber avg dur: 10.24, Customer avg dur: 24.43 \n",
      "Female avg dur: 14.47, Subscriber avg dur: 11.9, Customer avg dur: 29.7 \n",
      "Other avg dur: 14.97, Subscriber avg dur: 13.2, Customer avg dur: 25.21\n"
     ]
    }
   ],
   "source": [
    "print('Male avg dur: ' + str(male_mean) + ', Subscriber avg dur: ' + str(subscriber_male_mean) + ', Customer avg dur: ' + str(customer_male_mean), \n",
    "      '\\nFemale avg dur: ' + str(female_mean) + ', Subscriber avg dur: ' + str(subscriber_female_mean) + ', Customer avg dur: ' + str(customer_female_mean), \n",
    "      '\\nOther avg dur: ' + str(other_mean) + ', Subscriber avg dur: ' + str(subscriber_other_mean) + ', Customer avg dur: ' + str(customer_other_mean)\n",
    ")"
   ]
  },
  {
   "cell_type": "code",
   "execution_count": 47,
   "metadata": {},
   "outputs": [
    {
     "name": "stdout",
     "output_type": "stream",
     "text": [
      "Male avg duration:\n",
      "Subscriber vs Customer: \n",
      "Subscribers % rental time vs average: -12.48\n",
      "Customers % rental time vs average 108.8\n",
      "\n",
      "Female avg duration:\n",
      "Subscriber vs Customer: \n",
      "Subscribers % rental time vs average: 1.38\n",
      "Customers % rental time vs average 124.4\n",
      "\n",
      "Other avg duration:\n",
      "Subscriber vs Customer: \n",
      "Subscribers % rental time vs average: 10.02\n",
      "Customers % rental time vs average 90.25\n"
     ]
    }
   ],
   "source": [
    "print('Male avg duration:' + \n",
    "      '\\nSubscriber vs Customer: ' + \n",
    "      '\\nSubscribers % rental time vs average: ' + str(round(((subscriber_male_mean - male_mean)/male_mean) * 100, 2)) + \n",
    "      '\\nCustomers % rental time vs average ' + str(round(((customer_male_mean - male_mean)/male_mean) * 100, 2)) + \n",
    "      '\\n\\nFemale avg duration:' + \n",
    "      '\\nSubscriber vs Customer: ' + \n",
    "      '\\nSubscribers % rental time vs average: ' + str(round(((subscriber_female_mean - male_mean)/female_mean) * 100, 2)) + \n",
    "      '\\nCustomers % rental time vs average ' + str(round(((customer_female_mean - male_mean)/female_mean) * 100, 2)) + \n",
    "      '\\n\\nOther avg duration:' + \n",
    "      '\\nSubscriber vs Customer: ' + \n",
    "      '\\nSubscribers % rental time vs average: ' + str(round(((subscriber_other_mean - male_mean)/other_mean) * 100, 2)) + \n",
    "      '\\nCustomers % rental time vs average ' + str(round(((customer_other_mean - male_mean)/other_mean) * 100, 2)) \n",
    "     )"
   ]
  },
  {
   "cell_type": "markdown",
   "metadata": {},
   "source": [
    "### Males rent bikes for a wider range of time, from around 4 minutes to 18 minutes with an average of 11.7  minutes, however females tend to rent bikes for longer, they average 14.5 minute bike rentals.\n",
    "\n",
    "### Females may not rent as many bikes but they do tend to rent them for a longer amount of time.\n",
    ">\n",
    "- Male avg duration:\n",
    "- Subscriber vs Customer: \n",
    "- Subscribers % rental time vs average: -12.48\n",
    "- Customers % rental time vs average 108.8\n",
    "\n",
    "- Female avg duration:\n",
    "- Subscriber vs Customer: \n",
    "- Subscribers % rental time vs average: 1.38\n",
    "- Customers % rental time vs average 124.4\n",
    "\n",
    "- Other avg duration:\n",
    "- Subscriber vs Customer: \n",
    "- Subscribers % rental time vs average: 10.02\n",
    "- Customers % rental time vs average 90.25\n"
   ]
  },
  {
   "cell_type": "code",
   "execution_count": 63,
   "metadata": {},
   "outputs": [
    {
     "data": {
      "image/png": "[encoded data removed]",
      "text/plain": [
       "<Figure size 648x576 with 4 Axes>"
      ]
     },
     "metadata": {
      "needs_background": "light"
     },
     "output_type": "display_data"
    }
   ],
   "source": [
    "import matplotlib.pyplot as plt\n",
    "\n",
    "# Setting the weekday order\n",
    "df_cleaned['start_time_weekday'] = pd.Categorical(df_cleaned['start_time_weekday'], \n",
    "                                                categories=['Mon','Tue','Wed','Thu','Fri','Sat', 'Sun'], \n",
    "                                                ordered=True)\n",
    "plt.figure(figsize=(9,8))\n",
    "plt.suptitle('Hourly usage during the weekday for customers and subscribers', fontsize=14, fontweight='semibold')\n",
    "\n",
    "# heatmap for customers\n",
    "plt.subplot(1, 2, 1)\n",
    "df_customer = df_cleaned.query('user_type == \"Customer\"').groupby([\"start_time_hour\", \"start_time_weekday\"])[\"bike_id\"].size().reset_index()\n",
    "df_customer = df_customer.pivot(\"start_time_hour\", \"start_time_weekday\", \"bike_id\")\n",
    "sb.heatmap(df_customer, cmap=\"BuPu\")\n",
    "\n",
    "plt.title(\"Customer\", y=1.015)\n",
    "plt.xlabel('Weekday')\n",
    "plt.ylabel('Start Time Hour')\n",
    "\n",
    "# heatmap for subscribers\n",
    "plt.subplot(1, 2, 2)\n",
    "df_subscriber = df_cleaned.query('user_type == \"Subscriber\"').groupby([\"start_time_hour\", \"start_time_weekday\"])[\"bike_id\"].size().reset_index()\n",
    "df_subscriber = df_subscriber.pivot(\"start_time_hour\", \"start_time_weekday\", \"bike_id\")\n",
    "sb.heatmap(df_subscriber, cmap=\"BuPu\")\n",
    "\n",
    "plt.title(\"Subscriber\", y=1.015)\n",
    "plt.xlabel('Weekday')\n",
    "plt.ylabel('');"
   ]
  },
  {
   "cell_type": "markdown",
   "metadata": {},
   "source": [
    "### Customers and Subscribers tend to use rent bikes during the same time of the day during the week. However, Customers are more likely to rent bikes on the weekends during the day.\n"
   ]
  },
  {
   "cell_type": "code",
   "execution_count": 62,
   "metadata": {},
   "outputs": [
    {
     "data": {
      "image/png": "[encoded data removed]",
      "text/plain": [
       "<Figure size 648x576 with 4 Axes>"
      ]
     },
     "metadata": {
      "needs_background": "light"
     },
     "output_type": "display_data"
    }
   ],
   "source": [
    "import matplotlib.pyplot as plt\n",
    "\n",
    "# Setting the weekday order\n",
    "df_cleaned['start_time_weekday'] = pd.Categorical(df_cleaned['start_time_weekday'], \n",
    "                                                categories=['Mon','Tue','Wed','Thu','Fri','Sat', 'Sun'], \n",
    "                                                ordered=True)\n",
    "plt.figure(figsize=(9,8))\n",
    "plt.suptitle('Hourly usage during the weekday for Males and Females', fontsize=14, fontweight='semibold')\n",
    "\n",
    "# heatmap for males\n",
    "plt.subplot(1, 2, 1)\n",
    "df_male = df_cleaned.query('member_gender == \"Male\"').groupby([\"start_time_hour\", \"start_time_weekday\"])[\"bike_id\"].size().reset_index()\n",
    "df_male = df_male.pivot(\"start_time_hour\", \"start_time_weekday\", \"bike_id\")\n",
    "sb.heatmap(df_male, cmap=\"BuPu\")\n",
    "\n",
    "plt.title(\"Male\", y=1.015)\n",
    "plt.xlabel('Weekday')\n",
    "plt.ylabel('Start Time Hour')\n",
    "\n",
    "# heatmap for females\n",
    "plt.subplot(1, 2, 2)\n",
    "df_female = df_cleaned.query('member_gender == \"Female\"').groupby([\"start_time_hour\", \"start_time_weekday\"])[\"bike_id\"].size().reset_index()\n",
    "df_female = df_female.pivot(\"start_time_hour\", \"start_time_weekday\", \"bike_id\")\n",
    "sb.heatmap(df_female, cmap=\"BuPu\")\n",
    "\n",
    "plt.title(\"Female\", y=1.015)\n",
    "plt.xlabel('Weekday')\n",
    "plt.ylabel('');"
   ]
  },
  {
   "cell_type": "markdown",
   "metadata": {},
   "source": [
    "### Both males and females tend to rent bikes during the same hours especially during the week, Monday - Friday"
   ]
  },
  {
   "cell_type": "markdown",
   "metadata": {},
   "source": [
    "### Talk about some of the relationships you observed in this part of the investigation. Were there features that strengthened each other in terms of looking at your feature(s) of interest?\n",
    "\n",
    "> The relationship between customers, subscribers, trip duration and trip distance has been further shown. Subscibers of all genders and ages tend to use the bike share during the week between the hours of 6-9 AM and 4-6 PM. Customers, on the other hand, tend to ride at all hours of the day with a jump in rentals on the weekend starting on Friday and going through Sunday.\n",
    "\n",
    "### Were there any interesting or surprising interactions between features?\n",
    "\n",
    "> Everything went as expected. The heat maps do a really good job of reinforcing the data that began to show itself as the analysis progressed."
   ]
  },
  {
   "cell_type": "code",
   "execution_count": null,
   "metadata": {},
   "outputs": [],
   "source": []
  },
  {
   "cell_type": "markdown",
   "metadata": {},
   "source": [
    "### Sources\n",
    "- https://stackoverflow.com/questions/52521594/adding-a-path-to-pandas-to-csv-function\n",
    "- https://stackoverflow.com/questions/20906474/import-multiple-csv-files-into-pandas-and-concatenate-into-one-dataframe\n",
    "- https://stackoverflow.com/questions/20906474/import-multiple-csv-files-into-pandas-and-concatenate-into-one-dataframe\n",
    "- https://gist.github.com/okdolly/11160dcf5397cc8e2e87fb07133126cd\n",
    "- https://stackoverflow.com/questions/21291259/convert-floats-to-ints-in-pandas\n",
    "- https://www.movable-type.co.uk/scripts/latlong.html\n",
    "- https://www.drawingfromdata.com/setting-figure-size-using-seaborn-and-matplotlib\n",
    "- "
   ]
  },
  {
   "cell_type": "code",
   "execution_count": null,
   "metadata": {},
   "outputs": [],
   "source": []
  }
 ],
 "metadata": {
  "kernelspec": {
   "display_name": "Python 3",
   "language": "python",
   "name": "python3"
  },
  "language_info": {
   "codemirror_mode": {
    "name": "ipython",
    "version": 3
   },
   "file_extension": ".py",
   "mimetype": "text/x-python",
   "name": "python",
   "nbconvert_exporter": "python",
   "pygments_lexer": "ipython3",
   "version": "3.7.7"
  }
 },
 "nbformat": 4,
 "nbformat_minor": 2
}
